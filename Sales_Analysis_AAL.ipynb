{
 "cells": [
  {
   "cell_type": "markdown",
   "id": "4bc6217d-52ff-459d-b93e-f50a30fe25a2",
   "metadata": {},
   "source": [
    "# Sales Analysis for AAL\n",
    "Project statement: \n",
    "AAL, established in 2000, is a well-known brand in Australia, particularly \n",
    "recognized for its clothing business. It has opened branches in various states, \n",
    "metropolises, and tier-1 and tier-2 cities across the country. \n",
    "The brand caters to all age groups, from kids to the elderly. \n",
    "Currently experiencing a surge in business, AAL is actively pursuing expansion \n",
    "opportunities. To facilitate informed investment decisions, the CEO has assigned \n",
    "the responsibility to the head of AAL’s sales and marketing (S&M) department. \n",
    "The specific tasks include: \n",
    "1) Identify the states that are generating the highest revenues. \n",
    "2) Develop sales programs for states with lower revenues. The head of sales \n",
    "and marketing has requested your assistance with this task. \n",
    "Analyze the sales data of the company for the fourth quarter in Australia, \n",
    "examining it on a state-by-state basis. Provide insights to assist the company in \n",
    "making data-driven decisions for the upcoming year."
   ]
  },
  {
   "cell_type": "markdown",
   "id": "a5f33f81-ffc5-47ab-8899-71d313f40d0f",
   "metadata": {},
   "source": [
    "## Importing Necessary Libraries"
   ]
  },
  {
   "cell_type": "code",
   "execution_count": 1,
   "id": "a1813bbd-15ed-431e-b014-69e3f3b9a94a",
   "metadata": {},
   "outputs": [],
   "source": [
    "import numpy as np\n",
    "import pandas as pd\n",
    "import matplotlib.pyplot as plt\n",
    "from scipy.stats import zscore\n",
    "from sklearn.preprocessing import MinMaxScaler\n",
    "from sklearn.preprocessing import StandardScaler\n",
    "import statistics\n",
    "import statsmodels\n",
    "import statsmodels.stats.stattools\n",
    "from statsmodels.stats.stattools import medcouple\n",
    "from statsmodels.stats.stattools import robust_skewness\n",
    "from statsmodels.stats.stattools import robust_kurtosis"
   ]
  },
  {
   "cell_type": "markdown",
   "id": "b2237f5d-e65b-4cb0-a422-0ecadd32bf21",
   "metadata": {},
   "source": [
    "## Importing the source file to a pandas dataframe"
   ]
  },
  {
   "cell_type": "code",
   "execution_count": 2,
   "id": "d724bee3-da16-4a2a-af1f-f1077b02d2c8",
   "metadata": {},
   "outputs": [
    {
     "data": {
      "text/html": [
       "<div>\n",
       "<style scoped>\n",
       "    .dataframe tbody tr th:only-of-type {\n",
       "        vertical-align: middle;\n",
       "    }\n",
       "\n",
       "    .dataframe tbody tr th {\n",
       "        vertical-align: top;\n",
       "    }\n",
       "\n",
       "    .dataframe thead th {\n",
       "        text-align: right;\n",
       "    }\n",
       "</style>\n",
       "<table border=\"1\" class=\"dataframe\">\n",
       "  <thead>\n",
       "    <tr style=\"text-align: right;\">\n",
       "      <th></th>\n",
       "      <th>Date</th>\n",
       "      <th>Time</th>\n",
       "      <th>State</th>\n",
       "      <th>Group</th>\n",
       "      <th>Unit</th>\n",
       "      <th>Sales</th>\n",
       "    </tr>\n",
       "  </thead>\n",
       "  <tbody>\n",
       "    <tr>\n",
       "      <th>0</th>\n",
       "      <td>1-Oct-2020</td>\n",
       "      <td>Morning</td>\n",
       "      <td>WA</td>\n",
       "      <td>Kids</td>\n",
       "      <td>8</td>\n",
       "      <td>20000</td>\n",
       "    </tr>\n",
       "    <tr>\n",
       "      <th>1</th>\n",
       "      <td>1-Oct-2020</td>\n",
       "      <td>Morning</td>\n",
       "      <td>WA</td>\n",
       "      <td>Men</td>\n",
       "      <td>8</td>\n",
       "      <td>20000</td>\n",
       "    </tr>\n",
       "    <tr>\n",
       "      <th>2</th>\n",
       "      <td>1-Oct-2020</td>\n",
       "      <td>Morning</td>\n",
       "      <td>WA</td>\n",
       "      <td>Women</td>\n",
       "      <td>4</td>\n",
       "      <td>10000</td>\n",
       "    </tr>\n",
       "    <tr>\n",
       "      <th>3</th>\n",
       "      <td>1-Oct-2020</td>\n",
       "      <td>Morning</td>\n",
       "      <td>WA</td>\n",
       "      <td>Seniors</td>\n",
       "      <td>15</td>\n",
       "      <td>37500</td>\n",
       "    </tr>\n",
       "    <tr>\n",
       "      <th>4</th>\n",
       "      <td>1-Oct-2020</td>\n",
       "      <td>Afternoon</td>\n",
       "      <td>WA</td>\n",
       "      <td>Kids</td>\n",
       "      <td>3</td>\n",
       "      <td>7500</td>\n",
       "    </tr>\n",
       "  </tbody>\n",
       "</table>\n",
       "</div>"
      ],
      "text/plain": [
       "         Date        Time State     Group  Unit  Sales\n",
       "0  1-Oct-2020     Morning    WA      Kids     8  20000\n",
       "1  1-Oct-2020     Morning    WA       Men     8  20000\n",
       "2  1-Oct-2020     Morning    WA     Women     4  10000\n",
       "3  1-Oct-2020     Morning    WA   Seniors    15  37500\n",
       "4  1-Oct-2020   Afternoon    WA      Kids     3   7500"
      ]
     },
     "execution_count": 2,
     "metadata": {},
     "output_type": "execute_result"
    }
   ],
   "source": [
    "sales_data_df=pd.read_csv('AusApparalSales4thQrt2020.csv')\n",
    "sales_data_df.head()"
   ]
  },
  {
   "cell_type": "markdown",
   "id": "a0d3e707-a384-490b-9573-3d420fac01eb",
   "metadata": {},
   "source": [
    "## Checking the dataset"
   ]
  },
  {
   "cell_type": "code",
   "execution_count": 3,
   "id": "8cedc769-5442-477e-a307-a0221acb717e",
   "metadata": {},
   "outputs": [
    {
     "data": {
      "text/plain": [
       "(7560, 6)"
      ]
     },
     "execution_count": 3,
     "metadata": {},
     "output_type": "execute_result"
    }
   ],
   "source": [
    "sales_data_df.shape"
   ]
  },
  {
   "cell_type": "code",
   "execution_count": 4,
   "id": "8ed030cc-6d9b-450a-bd74-14793c59eadf",
   "metadata": {},
   "outputs": [
    {
     "data": {
      "text/html": [
       "<div>\n",
       "<style scoped>\n",
       "    .dataframe tbody tr th:only-of-type {\n",
       "        vertical-align: middle;\n",
       "    }\n",
       "\n",
       "    .dataframe tbody tr th {\n",
       "        vertical-align: top;\n",
       "    }\n",
       "\n",
       "    .dataframe thead th {\n",
       "        text-align: right;\n",
       "    }\n",
       "</style>\n",
       "<table border=\"1\" class=\"dataframe\">\n",
       "  <thead>\n",
       "    <tr style=\"text-align: right;\">\n",
       "      <th></th>\n",
       "      <th>Unit</th>\n",
       "      <th>Sales</th>\n",
       "    </tr>\n",
       "  </thead>\n",
       "  <tbody>\n",
       "    <tr>\n",
       "      <th>count</th>\n",
       "      <td>7560.000000</td>\n",
       "      <td>7560.000000</td>\n",
       "    </tr>\n",
       "    <tr>\n",
       "      <th>mean</th>\n",
       "      <td>18.005423</td>\n",
       "      <td>45013.558201</td>\n",
       "    </tr>\n",
       "    <tr>\n",
       "      <th>std</th>\n",
       "      <td>12.901403</td>\n",
       "      <td>32253.506944</td>\n",
       "    </tr>\n",
       "    <tr>\n",
       "      <th>min</th>\n",
       "      <td>2.000000</td>\n",
       "      <td>5000.000000</td>\n",
       "    </tr>\n",
       "    <tr>\n",
       "      <th>25%</th>\n",
       "      <td>8.000000</td>\n",
       "      <td>20000.000000</td>\n",
       "    </tr>\n",
       "    <tr>\n",
       "      <th>50%</th>\n",
       "      <td>14.000000</td>\n",
       "      <td>35000.000000</td>\n",
       "    </tr>\n",
       "    <tr>\n",
       "      <th>75%</th>\n",
       "      <td>26.000000</td>\n",
       "      <td>65000.000000</td>\n",
       "    </tr>\n",
       "    <tr>\n",
       "      <th>max</th>\n",
       "      <td>65.000000</td>\n",
       "      <td>162500.000000</td>\n",
       "    </tr>\n",
       "  </tbody>\n",
       "</table>\n",
       "</div>"
      ],
      "text/plain": [
       "              Unit          Sales\n",
       "count  7560.000000    7560.000000\n",
       "mean     18.005423   45013.558201\n",
       "std      12.901403   32253.506944\n",
       "min       2.000000    5000.000000\n",
       "25%       8.000000   20000.000000\n",
       "50%      14.000000   35000.000000\n",
       "75%      26.000000   65000.000000\n",
       "max      65.000000  162500.000000"
      ]
     },
     "execution_count": 4,
     "metadata": {},
     "output_type": "execute_result"
    }
   ],
   "source": [
    "sales_data_df.describe()"
   ]
  },
  {
   "cell_type": "code",
   "execution_count": 5,
   "id": "62f73060-328a-4fef-943b-2cbe4bb0db97",
   "metadata": {},
   "outputs": [
    {
     "name": "stdout",
     "output_type": "stream",
     "text": [
      "<class 'pandas.core.frame.DataFrame'>\n",
      "RangeIndex: 7560 entries, 0 to 7559\n",
      "Data columns (total 6 columns):\n",
      " #   Column  Non-Null Count  Dtype \n",
      "---  ------  --------------  ----- \n",
      " 0   Date    7560 non-null   object\n",
      " 1   Time    7560 non-null   object\n",
      " 2   State   7560 non-null   object\n",
      " 3   Group   7560 non-null   object\n",
      " 4   Unit    7560 non-null   int64 \n",
      " 5   Sales   7560 non-null   int64 \n",
      "dtypes: int64(2), object(4)\n",
      "memory usage: 354.5+ KB\n"
     ]
    }
   ],
   "source": [
    "sales_data_df.info()"
   ]
  },
  {
   "cell_type": "code",
   "execution_count": 6,
   "id": "eb650e90-8048-4987-ae8c-e459ad547247",
   "metadata": {},
   "outputs": [
    {
     "data": {
      "text/plain": [
       "Index      132\n",
       "Date     60480\n",
       "Time     60480\n",
       "State    60480\n",
       "Group    60480\n",
       "Unit     60480\n",
       "Sales    60480\n",
       "dtype: int64"
      ]
     },
     "execution_count": 6,
     "metadata": {},
     "output_type": "execute_result"
    }
   ],
   "source": [
    "sales_data_df.memory_usage()"
   ]
  },
  {
   "cell_type": "markdown",
   "id": "200983b0-15e0-4e8e-a1ce-adb7832d56d0",
   "metadata": {},
   "source": [
    "## Data Wrangling"
   ]
  },
  {
   "cell_type": "markdown",
   "id": "7561b0eb-fb59-4129-978c-e1bad26e5c8a",
   "metadata": {},
   "source": [
    "## Converting object datatypes into respective datatypes"
   ]
  },
  {
   "cell_type": "code",
   "execution_count": 7,
   "id": "02f54e31-dec1-4c89-be83-d8a5e3a3b319",
   "metadata": {},
   "outputs": [
    {
     "data": {
      "text/plain": [
       "Date     datetime64[ns]\n",
       "Time     string[python]\n",
       "State    string[python]\n",
       "Group    string[python]\n",
       "Unit              int64\n",
       "Sales             int64\n",
       "dtype: object"
      ]
     },
     "execution_count": 7,
     "metadata": {},
     "output_type": "execute_result"
    }
   ],
   "source": [
    "sales_data_df['Date']=pd.to_datetime(sales_data_df['Date'])\n",
    "cols=list(sales_data_df.select_dtypes(np.object_).columns)\n",
    "sales_data_df[cols]=sales_data_df[cols].astype('string')\n",
    "sales_data_df.dtypes"
   ]
  },
  {
   "cell_type": "markdown",
   "id": "0ffec182-ba0b-4027-8a9f-c29ccc284655",
   "metadata": {},
   "source": [
    "### Checking for null values"
   ]
  },
  {
   "cell_type": "code",
   "execution_count": 8,
   "id": "e04d9d87-91cf-42ce-9b29-130941b1d2c2",
   "metadata": {},
   "outputs": [
    {
     "data": {
      "text/plain": [
       "Date     0\n",
       "Time     0\n",
       "State    0\n",
       "Group    0\n",
       "Unit     0\n",
       "Sales    0\n",
       "dtype: int64"
      ]
     },
     "execution_count": 8,
     "metadata": {},
     "output_type": "execute_result"
    }
   ],
   "source": [
    "sales_data_df.isna().sum()"
   ]
  },
  {
   "cell_type": "code",
   "execution_count": 9,
   "id": "0cf58ab6-9454-49e1-8580-ae2dbeae7900",
   "metadata": {},
   "outputs": [
    {
     "data": {
      "text/plain": [
       "Date     7560\n",
       "Time     7560\n",
       "State    7560\n",
       "Group    7560\n",
       "Unit     7560\n",
       "Sales    7560\n",
       "dtype: int64"
      ]
     },
     "execution_count": 9,
     "metadata": {},
     "output_type": "execute_result"
    }
   ],
   "source": [
    "sales_data_df.notna().sum()"
   ]
  },
  {
   "cell_type": "markdown",
   "id": "c8f0f3fb-6d23-44f0-ba3b-4a3fcd3dcec3",
   "metadata": {},
   "source": [
    "### Checking unique values in each column"
   ]
  },
  {
   "cell_type": "code",
   "execution_count": 10,
   "id": "b4c44307-ce95-416d-bb69-81226f7fae3d",
   "metadata": {},
   "outputs": [
    {
     "name": "stdout",
     "output_type": "stream",
     "text": [
      "<StringArray>\n",
      "[' Morning', ' Afternoon', ' Evening']\n",
      "Length: 3, dtype: string\n",
      "<StringArray>\n",
      "[' WA', ' NT', ' SA', ' VIC', ' QLD', ' NSW', ' TAS']\n",
      "Length: 7, dtype: string\n",
      "<StringArray>\n",
      "[' Kids', ' Men', ' Women', ' Seniors']\n",
      "Length: 4, dtype: string\n",
      "[ 8  4 15  3 10 11 13  5  6  9 14 12 16 28 21 29 22 32 49 36 34 26 31 27\n",
      " 43 50 44 20 18 19 39 17 23 40 30  7 33 42 46 48 37 25 35 45 47 38 41 24\n",
      "  2 51 63 62 52 56 59 64 53 61 54 60 55 65 57 58]\n"
     ]
    }
   ],
   "source": [
    "print(sales_data_df['Time'].unique())\n",
    "print(sales_data_df['State'].unique())\n",
    "print(sales_data_df['Group'].unique())\n",
    "print(sales_data_df['Unit'].unique())\n"
   ]
  },
  {
   "cell_type": "markdown",
   "id": "409ac3a8-46f7-4830-bf0f-db5be7f6f428",
   "metadata": {},
   "source": [
    "### Checking if there are duplicate entries"
   ]
  },
  {
   "cell_type": "code",
   "execution_count": 11,
   "id": "df50ac09-7478-422d-bb82-93630fceb89d",
   "metadata": {},
   "outputs": [
    {
     "name": "stdout",
     "output_type": "stream",
     "text": [
      "Empty DataFrame\n",
      "Columns: [Date, Time, State, Group, Unit, Sales]\n",
      "Index: []\n"
     ]
    }
   ],
   "source": [
    "print(sales_data_df[sales_data_df.duplicated()])"
   ]
  },
  {
   "cell_type": "markdown",
   "id": "78064d76-e747-4c7a-8d93-15b835d86e50",
   "metadata": {},
   "source": [
    "### Sorting values by state,Group"
   ]
  },
  {
   "cell_type": "code",
   "execution_count": 12,
   "id": "b122556f-ff1f-42fc-bb07-f209ca5bde47",
   "metadata": {},
   "outputs": [
    {
     "data": {
      "text/html": [
       "<div>\n",
       "<style scoped>\n",
       "    .dataframe tbody tr th:only-of-type {\n",
       "        vertical-align: middle;\n",
       "    }\n",
       "\n",
       "    .dataframe tbody tr th {\n",
       "        vertical-align: top;\n",
       "    }\n",
       "\n",
       "    .dataframe thead th {\n",
       "        text-align: right;\n",
       "    }\n",
       "</style>\n",
       "<table border=\"1\" class=\"dataframe\">\n",
       "  <thead>\n",
       "    <tr style=\"text-align: right;\">\n",
       "      <th></th>\n",
       "      <th>Date</th>\n",
       "      <th>Time</th>\n",
       "      <th>State</th>\n",
       "      <th>Group</th>\n",
       "      <th>Unit</th>\n",
       "      <th>Sales</th>\n",
       "    </tr>\n",
       "  </thead>\n",
       "  <tbody>\n",
       "    <tr>\n",
       "      <th>64</th>\n",
       "      <td>2020-10-01</td>\n",
       "      <td>Afternoon</td>\n",
       "      <td>NSW</td>\n",
       "      <td>Kids</td>\n",
       "      <td>40</td>\n",
       "      <td>100000</td>\n",
       "    </tr>\n",
       "    <tr>\n",
       "      <th>148</th>\n",
       "      <td>2020-10-02</td>\n",
       "      <td>Afternoon</td>\n",
       "      <td>NSW</td>\n",
       "      <td>Kids</td>\n",
       "      <td>33</td>\n",
       "      <td>82500</td>\n",
       "    </tr>\n",
       "    <tr>\n",
       "      <th>232</th>\n",
       "      <td>2020-10-03</td>\n",
       "      <td>Afternoon</td>\n",
       "      <td>NSW</td>\n",
       "      <td>Kids</td>\n",
       "      <td>18</td>\n",
       "      <td>45000</td>\n",
       "    </tr>\n",
       "    <tr>\n",
       "      <th>316</th>\n",
       "      <td>2020-10-04</td>\n",
       "      <td>Afternoon</td>\n",
       "      <td>NSW</td>\n",
       "      <td>Kids</td>\n",
       "      <td>26</td>\n",
       "      <td>65000</td>\n",
       "    </tr>\n",
       "    <tr>\n",
       "      <th>400</th>\n",
       "      <td>2020-10-05</td>\n",
       "      <td>Afternoon</td>\n",
       "      <td>NSW</td>\n",
       "      <td>Kids</td>\n",
       "      <td>35</td>\n",
       "      <td>87500</td>\n",
       "    </tr>\n",
       "  </tbody>\n",
       "</table>\n",
       "</div>"
      ],
      "text/plain": [
       "          Date        Time State  Group  Unit   Sales\n",
       "64  2020-10-01   Afternoon   NSW   Kids    40  100000\n",
       "148 2020-10-02   Afternoon   NSW   Kids    33   82500\n",
       "232 2020-10-03   Afternoon   NSW   Kids    18   45000\n",
       "316 2020-10-04   Afternoon   NSW   Kids    26   65000\n",
       "400 2020-10-05   Afternoon   NSW   Kids    35   87500"
      ]
     },
     "execution_count": 12,
     "metadata": {},
     "output_type": "execute_result"
    }
   ],
   "source": [
    "sales_data_df=sales_data_df.sort_values(by=['State','Time','Group'])\n",
    "sales_data_df.head()"
   ]
  },
  {
   "cell_type": "code",
   "execution_count": 13,
   "id": "69b2ba4d-de2c-486a-a10c-cb140128da4b",
   "metadata": {},
   "outputs": [
    {
     "data": {
      "text/html": [
       "<div>\n",
       "<style scoped>\n",
       "    .dataframe tbody tr th:only-of-type {\n",
       "        vertical-align: middle;\n",
       "    }\n",
       "\n",
       "    .dataframe tbody tr th {\n",
       "        vertical-align: top;\n",
       "    }\n",
       "\n",
       "    .dataframe thead th {\n",
       "        text-align: right;\n",
       "    }\n",
       "</style>\n",
       "<table border=\"1\" class=\"dataframe\">\n",
       "  <thead>\n",
       "    <tr style=\"text-align: right;\">\n",
       "      <th></th>\n",
       "      <th>Date</th>\n",
       "      <th>Time</th>\n",
       "      <th>State</th>\n",
       "      <th>Group</th>\n",
       "      <th>Unit</th>\n",
       "      <th>Sales</th>\n",
       "    </tr>\n",
       "  </thead>\n",
       "  <tbody>\n",
       "    <tr>\n",
       "      <th>7142</th>\n",
       "      <td>2020-12-26</td>\n",
       "      <td>Morning</td>\n",
       "      <td>WA</td>\n",
       "      <td>Women</td>\n",
       "      <td>14</td>\n",
       "      <td>35000</td>\n",
       "    </tr>\n",
       "    <tr>\n",
       "      <th>7226</th>\n",
       "      <td>2020-12-27</td>\n",
       "      <td>Morning</td>\n",
       "      <td>WA</td>\n",
       "      <td>Women</td>\n",
       "      <td>14</td>\n",
       "      <td>35000</td>\n",
       "    </tr>\n",
       "    <tr>\n",
       "      <th>7310</th>\n",
       "      <td>2020-12-28</td>\n",
       "      <td>Morning</td>\n",
       "      <td>WA</td>\n",
       "      <td>Women</td>\n",
       "      <td>8</td>\n",
       "      <td>20000</td>\n",
       "    </tr>\n",
       "    <tr>\n",
       "      <th>7394</th>\n",
       "      <td>2020-12-29</td>\n",
       "      <td>Morning</td>\n",
       "      <td>WA</td>\n",
       "      <td>Women</td>\n",
       "      <td>9</td>\n",
       "      <td>22500</td>\n",
       "    </tr>\n",
       "    <tr>\n",
       "      <th>7478</th>\n",
       "      <td>2020-12-30</td>\n",
       "      <td>Morning</td>\n",
       "      <td>WA</td>\n",
       "      <td>Women</td>\n",
       "      <td>13</td>\n",
       "      <td>32500</td>\n",
       "    </tr>\n",
       "  </tbody>\n",
       "</table>\n",
       "</div>"
      ],
      "text/plain": [
       "           Date      Time State   Group  Unit  Sales\n",
       "7142 2020-12-26   Morning    WA   Women    14  35000\n",
       "7226 2020-12-27   Morning    WA   Women    14  35000\n",
       "7310 2020-12-28   Morning    WA   Women     8  20000\n",
       "7394 2020-12-29   Morning    WA   Women     9  22500\n",
       "7478 2020-12-30   Morning    WA   Women    13  32500"
      ]
     },
     "execution_count": 13,
     "metadata": {},
     "output_type": "execute_result"
    }
   ],
   "source": [
    "sales_data_df.tail()"
   ]
  },
  {
   "cell_type": "code",
   "execution_count": 14,
   "id": "2319cd93-3d31-43c7-b38d-62f31caac140",
   "metadata": {},
   "outputs": [
    {
     "data": {
      "text/html": [
       "<div>\n",
       "<style scoped>\n",
       "    .dataframe tbody tr th:only-of-type {\n",
       "        vertical-align: middle;\n",
       "    }\n",
       "\n",
       "    .dataframe tbody tr th {\n",
       "        vertical-align: top;\n",
       "    }\n",
       "\n",
       "    .dataframe thead th {\n",
       "        text-align: right;\n",
       "    }\n",
       "</style>\n",
       "<table border=\"1\" class=\"dataframe\">\n",
       "  <thead>\n",
       "    <tr style=\"text-align: right;\">\n",
       "      <th></th>\n",
       "      <th>Date</th>\n",
       "      <th>Time</th>\n",
       "      <th>State</th>\n",
       "      <th>Group</th>\n",
       "      <th>Unit</th>\n",
       "      <th>Sales</th>\n",
       "    </tr>\n",
       "  </thead>\n",
       "  <tbody>\n",
       "    <tr>\n",
       "      <th>0</th>\n",
       "      <td>2020-10-01</td>\n",
       "      <td>Afternoon</td>\n",
       "      <td>NSW</td>\n",
       "      <td>Kids</td>\n",
       "      <td>40</td>\n",
       "      <td>100000</td>\n",
       "    </tr>\n",
       "    <tr>\n",
       "      <th>1</th>\n",
       "      <td>2020-10-02</td>\n",
       "      <td>Afternoon</td>\n",
       "      <td>NSW</td>\n",
       "      <td>Kids</td>\n",
       "      <td>33</td>\n",
       "      <td>82500</td>\n",
       "    </tr>\n",
       "    <tr>\n",
       "      <th>2</th>\n",
       "      <td>2020-10-03</td>\n",
       "      <td>Afternoon</td>\n",
       "      <td>NSW</td>\n",
       "      <td>Kids</td>\n",
       "      <td>18</td>\n",
       "      <td>45000</td>\n",
       "    </tr>\n",
       "    <tr>\n",
       "      <th>3</th>\n",
       "      <td>2020-10-04</td>\n",
       "      <td>Afternoon</td>\n",
       "      <td>NSW</td>\n",
       "      <td>Kids</td>\n",
       "      <td>26</td>\n",
       "      <td>65000</td>\n",
       "    </tr>\n",
       "    <tr>\n",
       "      <th>4</th>\n",
       "      <td>2020-10-05</td>\n",
       "      <td>Afternoon</td>\n",
       "      <td>NSW</td>\n",
       "      <td>Kids</td>\n",
       "      <td>35</td>\n",
       "      <td>87500</td>\n",
       "    </tr>\n",
       "  </tbody>\n",
       "</table>\n",
       "</div>"
      ],
      "text/plain": [
       "        Date        Time State  Group  Unit   Sales\n",
       "0 2020-10-01   Afternoon   NSW   Kids    40  100000\n",
       "1 2020-10-02   Afternoon   NSW   Kids    33   82500\n",
       "2 2020-10-03   Afternoon   NSW   Kids    18   45000\n",
       "3 2020-10-04   Afternoon   NSW   Kids    26   65000\n",
       "4 2020-10-05   Afternoon   NSW   Kids    35   87500"
      ]
     },
     "execution_count": 14,
     "metadata": {},
     "output_type": "execute_result"
    }
   ],
   "source": [
    "sales_data_df=sales_data_df.reset_index(drop=True)\n",
    "sales_data_df.head()"
   ]
  },
  {
   "cell_type": "markdown",
   "id": "d598e0c6-1628-464c-9154-383839892d0d",
   "metadata": {},
   "source": [
    "## Checking for outliers"
   ]
  },
  {
   "cell_type": "markdown",
   "id": "c1bb1fa1-244e-4eb0-a408-b26a43c2cde4",
   "metadata": {},
   "source": [
    "#### Outlier Detection - Univarite - Boxplot"
   ]
  },
  {
   "cell_type": "code",
   "execution_count": 15,
   "id": "c032f291-e165-466b-8214-3babf30ac840",
   "metadata": {},
   "outputs": [
    {
     "data": {
      "text/plain": [
       "<Axes: >"
      ]
     },
     "execution_count": 15,
     "metadata": {},
     "output_type": "execute_result"
    },
    {
     "data": {
      "image/png": "[encoded data removed]",
      "text/plain": [
       "<Figure size 640x480 with 1 Axes>"
      ]
     },
     "metadata": {},
     "output_type": "display_data"
    }
   ],
   "source": [
    "sales_data_df.boxplot()"
   ]
  },
  {
   "cell_type": "markdown",
   "id": "725140a6-6d8a-4486-8d1a-d5d6b878d880",
   "metadata": {},
   "source": [
    "### Since scale is different for both variable  let us analyse more using sea born plots."
   ]
  },
  {
   "cell_type": "markdown",
   "id": "4c85e668-444c-48d4-9aa4-0f4ea0a05009",
   "metadata": {},
   "source": [
    "### Plotting using seaborn to understand more "
   ]
  },
  {
   "cell_type": "code",
   "execution_count": 16,
   "id": "a6ae38f4-3170-4095-80dc-574d0120fa6a",
   "metadata": {},
   "outputs": [
    {
     "data": {
      "image/png": "[encoded data removed]",
      "text/plain": [
       "<Figure size 640x480 with 2 Axes>"
      ]
     },
     "metadata": {},
     "output_type": "display_data"
    }
   ],
   "source": [
    "import matplotlib.pyplot as plt\n",
    "import seaborn as sns\n",
    "\n",
    "%matplotlib inline\n",
    "plt.subplot(1,2,1)\n",
    "sns.boxplot(x=sales_data_df['Sales'])\n",
    "plt.subplot(1,2,2)\n",
    "sns.boxplot(x=sales_data_df['Unit'])\n",
    "plt.show()"
   ]
  },
  {
   "cell_type": "markdown",
   "id": "16fd52e6-ed6a-48b2-a6b3-4db6bbd4deb1",
   "metadata": {},
   "source": [
    "### Using IQR (Interquartile range ) technique for outlier treatment"
   ]
  },
  {
   "cell_type": "code",
   "execution_count": 17,
   "id": "bd8bbdb5-fa1d-4a6e-a7a2-b6c5c529e6f5",
   "metadata": {},
   "outputs": [],
   "source": [
    "def outlier_treatment(col):\n",
    "    sorted(col)\n",
    "    Q1,Q3 = np.percentile(col , [25,75])\n",
    "    IQR = Q3 - Q1\n",
    "    lower_range = Q1 - (1.5 * IQR)\n",
    "    upper_range = Q3 + (1.5 * IQR)\n",
    "    return lower_range,upper_range"
   ]
  },
  {
   "cell_type": "markdown",
   "id": "424d96cf-389d-4273-b7f1-e28ff459d714",
   "metadata": {},
   "source": [
    "### Finding lower and upper limit in sales data"
   ]
  },
  {
   "cell_type": "code",
   "execution_count": 18,
   "id": "a9a07921-5f12-41eb-ae88-1c0556df5030",
   "metadata": {},
   "outputs": [
    {
     "name": "stdout",
     "output_type": "stream",
     "text": [
      "Lower Range: -47500.0\n",
      "Upper Range: 132500.0\n"
     ]
    }
   ],
   "source": [
    "lower_sales_range,upper_sales_range = outlier_treatment(sales_data_df['Sales'])\n",
    "print(\"Lower Range:\",lower_sales_range)\n",
    "print(\"Upper Range:\",upper_sales_range)"
   ]
  },
  {
   "cell_type": "markdown",
   "id": "559fbc21-e1f1-4437-8c22-8870a0b5ee68",
   "metadata": {},
   "source": [
    "### Finding number of outliers in sales data"
   ]
  },
  {
   "cell_type": "code",
   "execution_count": 19,
   "id": "8434accf-e03c-4c84-ae23-7b7a346618e4",
   "metadata": {},
   "outputs": [
    {
     "data": {
      "text/html": [
       "<div>\n",
       "<style scoped>\n",
       "    .dataframe tbody tr th:only-of-type {\n",
       "        vertical-align: middle;\n",
       "    }\n",
       "\n",
       "    .dataframe tbody tr th {\n",
       "        vertical-align: top;\n",
       "    }\n",
       "\n",
       "    .dataframe thead th {\n",
       "        text-align: right;\n",
       "    }\n",
       "</style>\n",
       "<table border=\"1\" class=\"dataframe\">\n",
       "  <thead>\n",
       "    <tr style=\"text-align: right;\">\n",
       "      <th></th>\n",
       "      <th>Date</th>\n",
       "      <th>Time</th>\n",
       "      <th>State</th>\n",
       "      <th>Group</th>\n",
       "      <th>Unit</th>\n",
       "      <th>Sales</th>\n",
       "    </tr>\n",
       "  </thead>\n",
       "  <tbody>\n",
       "  </tbody>\n",
       "</table>\n",
       "</div>"
      ],
      "text/plain": [
       "Empty DataFrame\n",
       "Columns: [Date, Time, State, Group, Unit, Sales]\n",
       "Index: []"
      ]
     },
     "execution_count": 19,
     "metadata": {},
     "output_type": "execute_result"
    }
   ],
   "source": [
    "lower_sales_df = sales_data_df[sales_data_df['Sales'].values < lower_sales_range]\n",
    "lower_sales_df"
   ]
  },
  {
   "cell_type": "code",
   "execution_count": 20,
   "id": "af0daf7f-f4d3-4ef0-b94b-7e32ec82d447",
   "metadata": {},
   "outputs": [
    {
     "data": {
      "text/html": [
       "<div>\n",
       "<style scoped>\n",
       "    .dataframe tbody tr th:only-of-type {\n",
       "        vertical-align: middle;\n",
       "    }\n",
       "\n",
       "    .dataframe tbody tr th {\n",
       "        vertical-align: top;\n",
       "    }\n",
       "\n",
       "    .dataframe thead th {\n",
       "        text-align: right;\n",
       "    }\n",
       "</style>\n",
       "<table border=\"1\" class=\"dataframe\">\n",
       "  <thead>\n",
       "    <tr style=\"text-align: right;\">\n",
       "      <th></th>\n",
       "      <th>Date</th>\n",
       "      <th>Time</th>\n",
       "      <th>State</th>\n",
       "      <th>Group</th>\n",
       "      <th>Unit</th>\n",
       "      <th>Sales</th>\n",
       "    </tr>\n",
       "  </thead>\n",
       "  <tbody>\n",
       "    <tr>\n",
       "      <th>5463</th>\n",
       "      <td>2020-12-04</td>\n",
       "      <td>Afternoon</td>\n",
       "      <td>VIC</td>\n",
       "      <td>Kids</td>\n",
       "      <td>54</td>\n",
       "      <td>135000</td>\n",
       "    </tr>\n",
       "    <tr>\n",
       "      <th>5466</th>\n",
       "      <td>2020-12-07</td>\n",
       "      <td>Afternoon</td>\n",
       "      <td>VIC</td>\n",
       "      <td>Kids</td>\n",
       "      <td>63</td>\n",
       "      <td>157500</td>\n",
       "    </tr>\n",
       "    <tr>\n",
       "      <th>5467</th>\n",
       "      <td>2020-12-08</td>\n",
       "      <td>Afternoon</td>\n",
       "      <td>VIC</td>\n",
       "      <td>Kids</td>\n",
       "      <td>62</td>\n",
       "      <td>155000</td>\n",
       "    </tr>\n",
       "    <tr>\n",
       "      <th>5468</th>\n",
       "      <td>2020-12-09</td>\n",
       "      <td>Afternoon</td>\n",
       "      <td>VIC</td>\n",
       "      <td>Kids</td>\n",
       "      <td>56</td>\n",
       "      <td>140000</td>\n",
       "    </tr>\n",
       "    <tr>\n",
       "      <th>5469</th>\n",
       "      <td>2020-12-10</td>\n",
       "      <td>Afternoon</td>\n",
       "      <td>VIC</td>\n",
       "      <td>Kids</td>\n",
       "      <td>57</td>\n",
       "      <td>142500</td>\n",
       "    </tr>\n",
       "    <tr>\n",
       "      <th>...</th>\n",
       "      <td>...</td>\n",
       "      <td>...</td>\n",
       "      <td>...</td>\n",
       "      <td>...</td>\n",
       "      <td>...</td>\n",
       "      <td>...</td>\n",
       "    </tr>\n",
       "    <tr>\n",
       "      <th>6464</th>\n",
       "      <td>2020-12-15</td>\n",
       "      <td>Morning</td>\n",
       "      <td>VIC</td>\n",
       "      <td>Women</td>\n",
       "      <td>61</td>\n",
       "      <td>152500</td>\n",
       "    </tr>\n",
       "    <tr>\n",
       "      <th>6468</th>\n",
       "      <td>2020-12-19</td>\n",
       "      <td>Morning</td>\n",
       "      <td>VIC</td>\n",
       "      <td>Women</td>\n",
       "      <td>57</td>\n",
       "      <td>142500</td>\n",
       "    </tr>\n",
       "    <tr>\n",
       "      <th>6471</th>\n",
       "      <td>2020-12-22</td>\n",
       "      <td>Morning</td>\n",
       "      <td>VIC</td>\n",
       "      <td>Women</td>\n",
       "      <td>56</td>\n",
       "      <td>140000</td>\n",
       "    </tr>\n",
       "    <tr>\n",
       "      <th>6475</th>\n",
       "      <td>2020-12-26</td>\n",
       "      <td>Morning</td>\n",
       "      <td>VIC</td>\n",
       "      <td>Women</td>\n",
       "      <td>54</td>\n",
       "      <td>135000</td>\n",
       "    </tr>\n",
       "    <tr>\n",
       "      <th>6478</th>\n",
       "      <td>2020-12-29</td>\n",
       "      <td>Morning</td>\n",
       "      <td>VIC</td>\n",
       "      <td>Women</td>\n",
       "      <td>57</td>\n",
       "      <td>142500</td>\n",
       "    </tr>\n",
       "  </tbody>\n",
       "</table>\n",
       "<p>123 rows × 6 columns</p>\n",
       "</div>"
      ],
      "text/plain": [
       "           Date        Time State   Group  Unit   Sales\n",
       "5463 2020-12-04   Afternoon   VIC    Kids    54  135000\n",
       "5466 2020-12-07   Afternoon   VIC    Kids    63  157500\n",
       "5467 2020-12-08   Afternoon   VIC    Kids    62  155000\n",
       "5468 2020-12-09   Afternoon   VIC    Kids    56  140000\n",
       "5469 2020-12-10   Afternoon   VIC    Kids    57  142500\n",
       "...         ...         ...   ...     ...   ...     ...\n",
       "6464 2020-12-15     Morning   VIC   Women    61  152500\n",
       "6468 2020-12-19     Morning   VIC   Women    57  142500\n",
       "6471 2020-12-22     Morning   VIC   Women    56  140000\n",
       "6475 2020-12-26     Morning   VIC   Women    54  135000\n",
       "6478 2020-12-29     Morning   VIC   Women    57  142500\n",
       "\n",
       "[123 rows x 6 columns]"
      ]
     },
     "execution_count": 20,
     "metadata": {},
     "output_type": "execute_result"
    }
   ],
   "source": [
    "upper_sales_df = sales_data_df[sales_data_df['Sales'].values > upper_sales_range]\n",
    "upper_sales_df"
   ]
  },
  {
   "cell_type": "markdown",
   "id": "b1fa2096-1a27-4d21-b4a7-4ff7067130b8",
   "metadata": {},
   "source": [
    "### Finding lower and upper limit in Units data"
   ]
  },
  {
   "cell_type": "code",
   "execution_count": 21,
   "id": "3e501546-9c6e-4c64-9c23-4e461feebe88",
   "metadata": {},
   "outputs": [
    {
     "name": "stdout",
     "output_type": "stream",
     "text": [
      "Lower Range: -19.0\n",
      "Upper Range: 53.0\n"
     ]
    }
   ],
   "source": [
    "lower_unit_range,upper_unit_range = outlier_treatment(sales_data_df['Unit'])\n",
    "print(\"Lower Range:\",lower_unit_range)\n",
    "print(\"Upper Range:\",upper_unit_range)"
   ]
  },
  {
   "cell_type": "markdown",
   "id": "cf041bf4-8922-421d-8db3-6082f57f6aa4",
   "metadata": {},
   "source": [
    "### Finding outliers in units data"
   ]
  },
  {
   "cell_type": "code",
   "execution_count": 22,
   "id": "ffa776b4-6d18-45ea-9f8d-5ccfefc8391d",
   "metadata": {},
   "outputs": [
    {
     "data": {
      "text/html": [
       "<div>\n",
       "<style scoped>\n",
       "    .dataframe tbody tr th:only-of-type {\n",
       "        vertical-align: middle;\n",
       "    }\n",
       "\n",
       "    .dataframe tbody tr th {\n",
       "        vertical-align: top;\n",
       "    }\n",
       "\n",
       "    .dataframe thead th {\n",
       "        text-align: right;\n",
       "    }\n",
       "</style>\n",
       "<table border=\"1\" class=\"dataframe\">\n",
       "  <thead>\n",
       "    <tr style=\"text-align: right;\">\n",
       "      <th></th>\n",
       "      <th>Date</th>\n",
       "      <th>Time</th>\n",
       "      <th>State</th>\n",
       "      <th>Group</th>\n",
       "      <th>Unit</th>\n",
       "      <th>Sales</th>\n",
       "    </tr>\n",
       "  </thead>\n",
       "  <tbody>\n",
       "  </tbody>\n",
       "</table>\n",
       "</div>"
      ],
      "text/plain": [
       "Empty DataFrame\n",
       "Columns: [Date, Time, State, Group, Unit, Sales]\n",
       "Index: []"
      ]
     },
     "execution_count": 22,
     "metadata": {},
     "output_type": "execute_result"
    }
   ],
   "source": [
    "lower_unit_df = sales_data_df[sales_data_df['Unit'].values < lower_unit_range]\n",
    "lower_unit_df"
   ]
  },
  {
   "cell_type": "code",
   "execution_count": 23,
   "id": "1b56f372-81e9-4964-8823-b6638d9f08a6",
   "metadata": {},
   "outputs": [
    {
     "data": {
      "text/html": [
       "<div>\n",
       "<style scoped>\n",
       "    .dataframe tbody tr th:only-of-type {\n",
       "        vertical-align: middle;\n",
       "    }\n",
       "\n",
       "    .dataframe tbody tr th {\n",
       "        vertical-align: top;\n",
       "    }\n",
       "\n",
       "    .dataframe thead th {\n",
       "        text-align: right;\n",
       "    }\n",
       "</style>\n",
       "<table border=\"1\" class=\"dataframe\">\n",
       "  <thead>\n",
       "    <tr style=\"text-align: right;\">\n",
       "      <th></th>\n",
       "      <th>Date</th>\n",
       "      <th>Time</th>\n",
       "      <th>State</th>\n",
       "      <th>Group</th>\n",
       "      <th>Unit</th>\n",
       "      <th>Sales</th>\n",
       "    </tr>\n",
       "  </thead>\n",
       "  <tbody>\n",
       "    <tr>\n",
       "      <th>5463</th>\n",
       "      <td>2020-12-04</td>\n",
       "      <td>Afternoon</td>\n",
       "      <td>VIC</td>\n",
       "      <td>Kids</td>\n",
       "      <td>54</td>\n",
       "      <td>135000</td>\n",
       "    </tr>\n",
       "    <tr>\n",
       "      <th>5466</th>\n",
       "      <td>2020-12-07</td>\n",
       "      <td>Afternoon</td>\n",
       "      <td>VIC</td>\n",
       "      <td>Kids</td>\n",
       "      <td>63</td>\n",
       "      <td>157500</td>\n",
       "    </tr>\n",
       "    <tr>\n",
       "      <th>5467</th>\n",
       "      <td>2020-12-08</td>\n",
       "      <td>Afternoon</td>\n",
       "      <td>VIC</td>\n",
       "      <td>Kids</td>\n",
       "      <td>62</td>\n",
       "      <td>155000</td>\n",
       "    </tr>\n",
       "    <tr>\n",
       "      <th>5468</th>\n",
       "      <td>2020-12-09</td>\n",
       "      <td>Afternoon</td>\n",
       "      <td>VIC</td>\n",
       "      <td>Kids</td>\n",
       "      <td>56</td>\n",
       "      <td>140000</td>\n",
       "    </tr>\n",
       "    <tr>\n",
       "      <th>5469</th>\n",
       "      <td>2020-12-10</td>\n",
       "      <td>Afternoon</td>\n",
       "      <td>VIC</td>\n",
       "      <td>Kids</td>\n",
       "      <td>57</td>\n",
       "      <td>142500</td>\n",
       "    </tr>\n",
       "    <tr>\n",
       "      <th>...</th>\n",
       "      <td>...</td>\n",
       "      <td>...</td>\n",
       "      <td>...</td>\n",
       "      <td>...</td>\n",
       "      <td>...</td>\n",
       "      <td>...</td>\n",
       "    </tr>\n",
       "    <tr>\n",
       "      <th>6464</th>\n",
       "      <td>2020-12-15</td>\n",
       "      <td>Morning</td>\n",
       "      <td>VIC</td>\n",
       "      <td>Women</td>\n",
       "      <td>61</td>\n",
       "      <td>152500</td>\n",
       "    </tr>\n",
       "    <tr>\n",
       "      <th>6468</th>\n",
       "      <td>2020-12-19</td>\n",
       "      <td>Morning</td>\n",
       "      <td>VIC</td>\n",
       "      <td>Women</td>\n",
       "      <td>57</td>\n",
       "      <td>142500</td>\n",
       "    </tr>\n",
       "    <tr>\n",
       "      <th>6471</th>\n",
       "      <td>2020-12-22</td>\n",
       "      <td>Morning</td>\n",
       "      <td>VIC</td>\n",
       "      <td>Women</td>\n",
       "      <td>56</td>\n",
       "      <td>140000</td>\n",
       "    </tr>\n",
       "    <tr>\n",
       "      <th>6475</th>\n",
       "      <td>2020-12-26</td>\n",
       "      <td>Morning</td>\n",
       "      <td>VIC</td>\n",
       "      <td>Women</td>\n",
       "      <td>54</td>\n",
       "      <td>135000</td>\n",
       "    </tr>\n",
       "    <tr>\n",
       "      <th>6478</th>\n",
       "      <td>2020-12-29</td>\n",
       "      <td>Morning</td>\n",
       "      <td>VIC</td>\n",
       "      <td>Women</td>\n",
       "      <td>57</td>\n",
       "      <td>142500</td>\n",
       "    </tr>\n",
       "  </tbody>\n",
       "</table>\n",
       "<p>123 rows × 6 columns</p>\n",
       "</div>"
      ],
      "text/plain": [
       "           Date        Time State   Group  Unit   Sales\n",
       "5463 2020-12-04   Afternoon   VIC    Kids    54  135000\n",
       "5466 2020-12-07   Afternoon   VIC    Kids    63  157500\n",
       "5467 2020-12-08   Afternoon   VIC    Kids    62  155000\n",
       "5468 2020-12-09   Afternoon   VIC    Kids    56  140000\n",
       "5469 2020-12-10   Afternoon   VIC    Kids    57  142500\n",
       "...         ...         ...   ...     ...   ...     ...\n",
       "6464 2020-12-15     Morning   VIC   Women    61  152500\n",
       "6468 2020-12-19     Morning   VIC   Women    57  142500\n",
       "6471 2020-12-22     Morning   VIC   Women    56  140000\n",
       "6475 2020-12-26     Morning   VIC   Women    54  135000\n",
       "6478 2020-12-29     Morning   VIC   Women    57  142500\n",
       "\n",
       "[123 rows x 6 columns]"
      ]
     },
     "execution_count": 23,
     "metadata": {},
     "output_type": "execute_result"
    }
   ],
   "source": [
    "upper_unit_df = sales_data_df[sales_data_df['Unit'].values > upper_unit_range]\n",
    "upper_unit_df"
   ]
  },
  {
   "cell_type": "markdown",
   "id": "539a2b42-4183-4c0b-802c-2fa1d5f6b9cf",
   "metadata": {},
   "source": [
    "### Finding which state has outlier data"
   ]
  },
  {
   "cell_type": "code",
   "execution_count": 24,
   "id": "cf5d934d-2176-4ebf-9be3-1c9f77e0e7de",
   "metadata": {},
   "outputs": [
    {
     "data": {
      "text/plain": [
       "<StringArray>\n",
       "[' VIC']\n",
       "Length: 1, dtype: string"
      ]
     },
     "execution_count": 24,
     "metadata": {},
     "output_type": "execute_result"
    }
   ],
   "source": [
    "upper_sales_df['State'].unique()"
   ]
  },
  {
   "cell_type": "markdown",
   "id": "b901e8d4-9733-42de-9228-23016a575a61",
   "metadata": {},
   "source": [
    "### Using normalization technique Min-Max Scaling and Z- score standardization"
   ]
  },
  {
   "cell_type": "code",
   "execution_count": 25,
   "id": "622dd3da-f301-473a-81cc-c513c726d115",
   "metadata": {},
   "outputs": [
    {
     "data": {
      "text/html": [
       "<div>\n",
       "<style scoped>\n",
       "    .dataframe tbody tr th:only-of-type {\n",
       "        vertical-align: middle;\n",
       "    }\n",
       "\n",
       "    .dataframe tbody tr th {\n",
       "        vertical-align: top;\n",
       "    }\n",
       "\n",
       "    .dataframe thead th {\n",
       "        text-align: right;\n",
       "    }\n",
       "</style>\n",
       "<table border=\"1\" class=\"dataframe\">\n",
       "  <thead>\n",
       "    <tr style=\"text-align: right;\">\n",
       "      <th></th>\n",
       "      <th>Date</th>\n",
       "      <th>Unit</th>\n",
       "      <th>Sales</th>\n",
       "      <th>normalized_Unit_std</th>\n",
       "      <th>normalized_Sales_std</th>\n",
       "    </tr>\n",
       "  </thead>\n",
       "  <tbody>\n",
       "    <tr>\n",
       "      <th>count</th>\n",
       "      <td>7560</td>\n",
       "      <td>7560.000000</td>\n",
       "      <td>7560.000000</td>\n",
       "      <td>7.560000e+03</td>\n",
       "      <td>7.560000e+03</td>\n",
       "    </tr>\n",
       "    <tr>\n",
       "      <th>mean</th>\n",
       "      <td>2020-11-15 04:00:00.000000256</td>\n",
       "      <td>18.005423</td>\n",
       "      <td>45013.558201</td>\n",
       "      <td>6.015177e-17</td>\n",
       "      <td>7.518971e-18</td>\n",
       "    </tr>\n",
       "    <tr>\n",
       "      <th>min</th>\n",
       "      <td>2020-10-01 00:00:00</td>\n",
       "      <td>2.000000</td>\n",
       "      <td>5000.000000</td>\n",
       "      <td>-1.240678e+00</td>\n",
       "      <td>-1.240678e+00</td>\n",
       "    </tr>\n",
       "    <tr>\n",
       "      <th>25%</th>\n",
       "      <td>2020-10-23 00:00:00</td>\n",
       "      <td>8.000000</td>\n",
       "      <td>20000.000000</td>\n",
       "      <td>-7.755812e-01</td>\n",
       "      <td>-7.755812e-01</td>\n",
       "    </tr>\n",
       "    <tr>\n",
       "      <th>50%</th>\n",
       "      <td>2020-11-15 12:00:00</td>\n",
       "      <td>14.000000</td>\n",
       "      <td>35000.000000</td>\n",
       "      <td>-3.104847e-01</td>\n",
       "      <td>-3.104847e-01</td>\n",
       "    </tr>\n",
       "    <tr>\n",
       "      <th>75%</th>\n",
       "      <td>2020-12-08 00:00:00</td>\n",
       "      <td>26.000000</td>\n",
       "      <td>65000.000000</td>\n",
       "      <td>6.197082e-01</td>\n",
       "      <td>6.197082e-01</td>\n",
       "    </tr>\n",
       "    <tr>\n",
       "      <th>max</th>\n",
       "      <td>2020-12-30 00:00:00</td>\n",
       "      <td>65.000000</td>\n",
       "      <td>162500.000000</td>\n",
       "      <td>3.642835e+00</td>\n",
       "      <td>3.642835e+00</td>\n",
       "    </tr>\n",
       "    <tr>\n",
       "      <th>std</th>\n",
       "      <td>NaN</td>\n",
       "      <td>12.901403</td>\n",
       "      <td>32253.506944</td>\n",
       "      <td>1.000066e+00</td>\n",
       "      <td>1.000066e+00</td>\n",
       "    </tr>\n",
       "  </tbody>\n",
       "</table>\n",
       "</div>"
      ],
      "text/plain": [
       "                                Date         Unit          Sales  \\\n",
       "count                           7560  7560.000000    7560.000000   \n",
       "mean   2020-11-15 04:00:00.000000256    18.005423   45013.558201   \n",
       "min              2020-10-01 00:00:00     2.000000    5000.000000   \n",
       "25%              2020-10-23 00:00:00     8.000000   20000.000000   \n",
       "50%              2020-11-15 12:00:00    14.000000   35000.000000   \n",
       "75%              2020-12-08 00:00:00    26.000000   65000.000000   \n",
       "max              2020-12-30 00:00:00    65.000000  162500.000000   \n",
       "std                              NaN    12.901403   32253.506944   \n",
       "\n",
       "       normalized_Unit_std  normalized_Sales_std  \n",
       "count         7.560000e+03          7.560000e+03  \n",
       "mean          6.015177e-17          7.518971e-18  \n",
       "min          -1.240678e+00         -1.240678e+00  \n",
       "25%          -7.755812e-01         -7.755812e-01  \n",
       "50%          -3.104847e-01         -3.104847e-01  \n",
       "75%           6.197082e-01          6.197082e-01  \n",
       "max           3.642835e+00          3.642835e+00  \n",
       "std           1.000066e+00          1.000066e+00  "
      ]
     },
     "execution_count": 25,
     "metadata": {},
     "output_type": "execute_result"
    }
   ],
   "source": [
    "std_scaler = StandardScaler()\n",
    "\n",
    "sales_data_df['normalized_Unit_std'] = std_scaler.fit_transform(sales_data_df[['Unit']])\n",
    "\n",
    "sales_data_df['normalized_Sales_std'] = std_scaler.fit_transform(sales_data_df[['Sales']])\n",
    "\n",
    "sales_data_df.describe()"
   ]
  },
  {
   "cell_type": "code",
   "execution_count": 26,
   "id": "e89b9528-0111-4aec-9e52-3fe0fadfa0d2",
   "metadata": {},
   "outputs": [
    {
     "data": {
      "text/html": [
       "<div>\n",
       "<style scoped>\n",
       "    .dataframe tbody tr th:only-of-type {\n",
       "        vertical-align: middle;\n",
       "    }\n",
       "\n",
       "    .dataframe tbody tr th {\n",
       "        vertical-align: top;\n",
       "    }\n",
       "\n",
       "    .dataframe thead th {\n",
       "        text-align: right;\n",
       "    }\n",
       "</style>\n",
       "<table border=\"1\" class=\"dataframe\">\n",
       "  <thead>\n",
       "    <tr style=\"text-align: right;\">\n",
       "      <th></th>\n",
       "      <th>Date</th>\n",
       "      <th>Unit</th>\n",
       "      <th>Sales</th>\n",
       "      <th>normalized_Unit_std</th>\n",
       "      <th>normalized_Sales_std</th>\n",
       "      <th>normalized_Unit</th>\n",
       "      <th>normalized_Sales</th>\n",
       "    </tr>\n",
       "  </thead>\n",
       "  <tbody>\n",
       "    <tr>\n",
       "      <th>count</th>\n",
       "      <td>7560</td>\n",
       "      <td>7560.000000</td>\n",
       "      <td>7560.000000</td>\n",
       "      <td>7.560000e+03</td>\n",
       "      <td>7.560000e+03</td>\n",
       "      <td>7560.000000</td>\n",
       "      <td>7560.000000</td>\n",
       "    </tr>\n",
       "    <tr>\n",
       "      <th>mean</th>\n",
       "      <td>2020-11-15 04:00:00.000000256</td>\n",
       "      <td>18.005423</td>\n",
       "      <td>45013.558201</td>\n",
       "      <td>6.015177e-17</td>\n",
       "      <td>7.518971e-18</td>\n",
       "      <td>0.254054</td>\n",
       "      <td>0.254054</td>\n",
       "    </tr>\n",
       "    <tr>\n",
       "      <th>min</th>\n",
       "      <td>2020-10-01 00:00:00</td>\n",
       "      <td>2.000000</td>\n",
       "      <td>5000.000000</td>\n",
       "      <td>-1.240678e+00</td>\n",
       "      <td>-1.240678e+00</td>\n",
       "      <td>0.000000</td>\n",
       "      <td>0.000000</td>\n",
       "    </tr>\n",
       "    <tr>\n",
       "      <th>25%</th>\n",
       "      <td>2020-10-23 00:00:00</td>\n",
       "      <td>8.000000</td>\n",
       "      <td>20000.000000</td>\n",
       "      <td>-7.755812e-01</td>\n",
       "      <td>-7.755812e-01</td>\n",
       "      <td>0.095238</td>\n",
       "      <td>0.095238</td>\n",
       "    </tr>\n",
       "    <tr>\n",
       "      <th>50%</th>\n",
       "      <td>2020-11-15 12:00:00</td>\n",
       "      <td>14.000000</td>\n",
       "      <td>35000.000000</td>\n",
       "      <td>-3.104847e-01</td>\n",
       "      <td>-3.104847e-01</td>\n",
       "      <td>0.190476</td>\n",
       "      <td>0.190476</td>\n",
       "    </tr>\n",
       "    <tr>\n",
       "      <th>75%</th>\n",
       "      <td>2020-12-08 00:00:00</td>\n",
       "      <td>26.000000</td>\n",
       "      <td>65000.000000</td>\n",
       "      <td>6.197082e-01</td>\n",
       "      <td>6.197082e-01</td>\n",
       "      <td>0.380952</td>\n",
       "      <td>0.380952</td>\n",
       "    </tr>\n",
       "    <tr>\n",
       "      <th>max</th>\n",
       "      <td>2020-12-30 00:00:00</td>\n",
       "      <td>65.000000</td>\n",
       "      <td>162500.000000</td>\n",
       "      <td>3.642835e+00</td>\n",
       "      <td>3.642835e+00</td>\n",
       "      <td>1.000000</td>\n",
       "      <td>1.000000</td>\n",
       "    </tr>\n",
       "    <tr>\n",
       "      <th>std</th>\n",
       "      <td>NaN</td>\n",
       "      <td>12.901403</td>\n",
       "      <td>32253.506944</td>\n",
       "      <td>1.000066e+00</td>\n",
       "      <td>1.000066e+00</td>\n",
       "      <td>0.204784</td>\n",
       "      <td>0.204784</td>\n",
       "    </tr>\n",
       "  </tbody>\n",
       "</table>\n",
       "</div>"
      ],
      "text/plain": [
       "                                Date         Unit          Sales  \\\n",
       "count                           7560  7560.000000    7560.000000   \n",
       "mean   2020-11-15 04:00:00.000000256    18.005423   45013.558201   \n",
       "min              2020-10-01 00:00:00     2.000000    5000.000000   \n",
       "25%              2020-10-23 00:00:00     8.000000   20000.000000   \n",
       "50%              2020-11-15 12:00:00    14.000000   35000.000000   \n",
       "75%              2020-12-08 00:00:00    26.000000   65000.000000   \n",
       "max              2020-12-30 00:00:00    65.000000  162500.000000   \n",
       "std                              NaN    12.901403   32253.506944   \n",
       "\n",
       "       normalized_Unit_std  normalized_Sales_std  normalized_Unit  \\\n",
       "count         7.560000e+03          7.560000e+03      7560.000000   \n",
       "mean          6.015177e-17          7.518971e-18         0.254054   \n",
       "min          -1.240678e+00         -1.240678e+00         0.000000   \n",
       "25%          -7.755812e-01         -7.755812e-01         0.095238   \n",
       "50%          -3.104847e-01         -3.104847e-01         0.190476   \n",
       "75%           6.197082e-01          6.197082e-01         0.380952   \n",
       "max           3.642835e+00          3.642835e+00         1.000000   \n",
       "std           1.000066e+00          1.000066e+00         0.204784   \n",
       "\n",
       "       normalized_Sales  \n",
       "count       7560.000000  \n",
       "mean           0.254054  \n",
       "min            0.000000  \n",
       "25%            0.095238  \n",
       "50%            0.190476  \n",
       "75%            0.380952  \n",
       "max            1.000000  \n",
       "std            0.204784  "
      ]
     },
     "execution_count": 26,
     "metadata": {},
     "output_type": "execute_result"
    }
   ],
   "source": [
    "\n",
    "scaler = MinMaxScaler()\n",
    "\n",
    "sales_data_df['normalized_Unit'] = scaler.fit_transform(sales_data_df[['Unit']])\n",
    "\n",
    "sales_data_df['normalized_Sales'] = scaler.fit_transform(sales_data_df[['Sales']])\n",
    "\n",
    "sales_data_df.describe()"
   ]
  },
  {
   "cell_type": "code",
   "execution_count": 27,
   "id": "54c43411-bb1f-497b-94e1-ade431e65e2c",
   "metadata": {},
   "outputs": [
    {
     "data": {
      "text/html": [
       "<div>\n",
       "<style scoped>\n",
       "    .dataframe tbody tr th:only-of-type {\n",
       "        vertical-align: middle;\n",
       "    }\n",
       "\n",
       "    .dataframe tbody tr th {\n",
       "        vertical-align: top;\n",
       "    }\n",
       "\n",
       "    .dataframe thead th {\n",
       "        text-align: right;\n",
       "    }\n",
       "</style>\n",
       "<table border=\"1\" class=\"dataframe\">\n",
       "  <thead>\n",
       "    <tr style=\"text-align: right;\">\n",
       "      <th></th>\n",
       "      <th>Date</th>\n",
       "      <th>Unit</th>\n",
       "      <th>Sales</th>\n",
       "      <th>normalized_Unit_std</th>\n",
       "      <th>normalized_Sales_std</th>\n",
       "      <th>normalized_Unit</th>\n",
       "      <th>normalized_Sales</th>\n",
       "    </tr>\n",
       "  </thead>\n",
       "  <tbody>\n",
       "    <tr>\n",
       "      <th>count</th>\n",
       "      <td>7560</td>\n",
       "      <td>7560.000000</td>\n",
       "      <td>7560.000000</td>\n",
       "      <td>7.560000e+03</td>\n",
       "      <td>7.560000e+03</td>\n",
       "      <td>7560.000000</td>\n",
       "      <td>7560.000000</td>\n",
       "    </tr>\n",
       "    <tr>\n",
       "      <th>mean</th>\n",
       "      <td>2020-11-15 04:00:00.000000256</td>\n",
       "      <td>18.005423</td>\n",
       "      <td>45013.558201</td>\n",
       "      <td>6.015177e-17</td>\n",
       "      <td>7.518971e-18</td>\n",
       "      <td>0.254054</td>\n",
       "      <td>0.254054</td>\n",
       "    </tr>\n",
       "    <tr>\n",
       "      <th>min</th>\n",
       "      <td>2020-10-01 00:00:00</td>\n",
       "      <td>2.000000</td>\n",
       "      <td>5000.000000</td>\n",
       "      <td>-1.240678e+00</td>\n",
       "      <td>-1.240678e+00</td>\n",
       "      <td>0.000000</td>\n",
       "      <td>0.000000</td>\n",
       "    </tr>\n",
       "    <tr>\n",
       "      <th>25%</th>\n",
       "      <td>2020-10-23 00:00:00</td>\n",
       "      <td>8.000000</td>\n",
       "      <td>20000.000000</td>\n",
       "      <td>-7.755812e-01</td>\n",
       "      <td>-7.755812e-01</td>\n",
       "      <td>0.095238</td>\n",
       "      <td>0.095238</td>\n",
       "    </tr>\n",
       "    <tr>\n",
       "      <th>50%</th>\n",
       "      <td>2020-11-15 12:00:00</td>\n",
       "      <td>14.000000</td>\n",
       "      <td>35000.000000</td>\n",
       "      <td>-3.104847e-01</td>\n",
       "      <td>-3.104847e-01</td>\n",
       "      <td>0.190476</td>\n",
       "      <td>0.190476</td>\n",
       "    </tr>\n",
       "    <tr>\n",
       "      <th>75%</th>\n",
       "      <td>2020-12-08 00:00:00</td>\n",
       "      <td>26.000000</td>\n",
       "      <td>65000.000000</td>\n",
       "      <td>6.197082e-01</td>\n",
       "      <td>6.197082e-01</td>\n",
       "      <td>0.380952</td>\n",
       "      <td>0.380952</td>\n",
       "    </tr>\n",
       "    <tr>\n",
       "      <th>max</th>\n",
       "      <td>2020-12-30 00:00:00</td>\n",
       "      <td>65.000000</td>\n",
       "      <td>162500.000000</td>\n",
       "      <td>3.642835e+00</td>\n",
       "      <td>3.642835e+00</td>\n",
       "      <td>1.000000</td>\n",
       "      <td>1.000000</td>\n",
       "    </tr>\n",
       "    <tr>\n",
       "      <th>std</th>\n",
       "      <td>NaN</td>\n",
       "      <td>12.901403</td>\n",
       "      <td>32253.506944</td>\n",
       "      <td>1.000066e+00</td>\n",
       "      <td>1.000066e+00</td>\n",
       "      <td>0.204784</td>\n",
       "      <td>0.204784</td>\n",
       "    </tr>\n",
       "  </tbody>\n",
       "</table>\n",
       "</div>"
      ],
      "text/plain": [
       "                                Date         Unit          Sales  \\\n",
       "count                           7560  7560.000000    7560.000000   \n",
       "mean   2020-11-15 04:00:00.000000256    18.005423   45013.558201   \n",
       "min              2020-10-01 00:00:00     2.000000    5000.000000   \n",
       "25%              2020-10-23 00:00:00     8.000000   20000.000000   \n",
       "50%              2020-11-15 12:00:00    14.000000   35000.000000   \n",
       "75%              2020-12-08 00:00:00    26.000000   65000.000000   \n",
       "max              2020-12-30 00:00:00    65.000000  162500.000000   \n",
       "std                              NaN    12.901403   32253.506944   \n",
       "\n",
       "       normalized_Unit_std  normalized_Sales_std  normalized_Unit  \\\n",
       "count         7.560000e+03          7.560000e+03      7560.000000   \n",
       "mean          6.015177e-17          7.518971e-18         0.254054   \n",
       "min          -1.240678e+00         -1.240678e+00         0.000000   \n",
       "25%          -7.755812e-01         -7.755812e-01         0.095238   \n",
       "50%          -3.104847e-01         -3.104847e-01         0.190476   \n",
       "75%           6.197082e-01          6.197082e-01         0.380952   \n",
       "max           3.642835e+00          3.642835e+00         1.000000   \n",
       "std           1.000066e+00          1.000066e+00         0.204784   \n",
       "\n",
       "       normalized_Sales  \n",
       "count       7560.000000  \n",
       "mean           0.254054  \n",
       "min            0.000000  \n",
       "25%            0.095238  \n",
       "50%            0.190476  \n",
       "75%            0.380952  \n",
       "max            1.000000  \n",
       "std            0.204784  "
      ]
     },
     "execution_count": 27,
     "metadata": {},
     "output_type": "execute_result"
    }
   ],
   "source": [
    "sales_data_df.describe()"
   ]
  },
  {
   "cell_type": "markdown",
   "id": "e81b2fb9-f7dc-4efd-b7c9-a880ea28429a",
   "metadata": {},
   "source": [
    "#### Inference Min max scaler normalization is better in this scenario"
   ]
  },
  {
   "cell_type": "markdown",
   "id": "fb708a7f-3161-4033-984e-295b8b6b5e8a",
   "metadata": {},
   "source": [
    "#### Dropping z score normalized columns"
   ]
  },
  {
   "cell_type": "code",
   "execution_count": 28,
   "id": "ff26f89c-7306-45fa-b62f-b683de2e48c0",
   "metadata": {},
   "outputs": [
    {
     "data": {
      "text/html": [
       "<div>\n",
       "<style scoped>\n",
       "    .dataframe tbody tr th:only-of-type {\n",
       "        vertical-align: middle;\n",
       "    }\n",
       "\n",
       "    .dataframe tbody tr th {\n",
       "        vertical-align: top;\n",
       "    }\n",
       "\n",
       "    .dataframe thead th {\n",
       "        text-align: right;\n",
       "    }\n",
       "</style>\n",
       "<table border=\"1\" class=\"dataframe\">\n",
       "  <thead>\n",
       "    <tr style=\"text-align: right;\">\n",
       "      <th></th>\n",
       "      <th>Date</th>\n",
       "      <th>Time</th>\n",
       "      <th>State</th>\n",
       "      <th>Group</th>\n",
       "      <th>Unit</th>\n",
       "      <th>Sales</th>\n",
       "      <th>normalized_Unit</th>\n",
       "      <th>normalized_Sales</th>\n",
       "    </tr>\n",
       "  </thead>\n",
       "  <tbody>\n",
       "    <tr>\n",
       "      <th>0</th>\n",
       "      <td>2020-10-01</td>\n",
       "      <td>Afternoon</td>\n",
       "      <td>NSW</td>\n",
       "      <td>Kids</td>\n",
       "      <td>40</td>\n",
       "      <td>100000</td>\n",
       "      <td>0.603175</td>\n",
       "      <td>0.603175</td>\n",
       "    </tr>\n",
       "    <tr>\n",
       "      <th>1</th>\n",
       "      <td>2020-10-02</td>\n",
       "      <td>Afternoon</td>\n",
       "      <td>NSW</td>\n",
       "      <td>Kids</td>\n",
       "      <td>33</td>\n",
       "      <td>82500</td>\n",
       "      <td>0.492063</td>\n",
       "      <td>0.492063</td>\n",
       "    </tr>\n",
       "    <tr>\n",
       "      <th>2</th>\n",
       "      <td>2020-10-03</td>\n",
       "      <td>Afternoon</td>\n",
       "      <td>NSW</td>\n",
       "      <td>Kids</td>\n",
       "      <td>18</td>\n",
       "      <td>45000</td>\n",
       "      <td>0.253968</td>\n",
       "      <td>0.253968</td>\n",
       "    </tr>\n",
       "    <tr>\n",
       "      <th>3</th>\n",
       "      <td>2020-10-04</td>\n",
       "      <td>Afternoon</td>\n",
       "      <td>NSW</td>\n",
       "      <td>Kids</td>\n",
       "      <td>26</td>\n",
       "      <td>65000</td>\n",
       "      <td>0.380952</td>\n",
       "      <td>0.380952</td>\n",
       "    </tr>\n",
       "    <tr>\n",
       "      <th>4</th>\n",
       "      <td>2020-10-05</td>\n",
       "      <td>Afternoon</td>\n",
       "      <td>NSW</td>\n",
       "      <td>Kids</td>\n",
       "      <td>35</td>\n",
       "      <td>87500</td>\n",
       "      <td>0.523810</td>\n",
       "      <td>0.523810</td>\n",
       "    </tr>\n",
       "  </tbody>\n",
       "</table>\n",
       "</div>"
      ],
      "text/plain": [
       "        Date        Time State  Group  Unit   Sales  normalized_Unit  \\\n",
       "0 2020-10-01   Afternoon   NSW   Kids    40  100000         0.603175   \n",
       "1 2020-10-02   Afternoon   NSW   Kids    33   82500         0.492063   \n",
       "2 2020-10-03   Afternoon   NSW   Kids    18   45000         0.253968   \n",
       "3 2020-10-04   Afternoon   NSW   Kids    26   65000         0.380952   \n",
       "4 2020-10-05   Afternoon   NSW   Kids    35   87500         0.523810   \n",
       "\n",
       "   normalized_Sales  \n",
       "0          0.603175  \n",
       "1          0.492063  \n",
       "2          0.253968  \n",
       "3          0.380952  \n",
       "4          0.523810  "
      ]
     },
     "execution_count": 28,
     "metadata": {},
     "output_type": "execute_result"
    }
   ],
   "source": [
    "sales_data_df=sales_data_df.drop(['normalized_Unit_std','normalized_Sales_std'],axis=1)\n",
    "sales_data_df.head()"
   ]
  },
  {
   "cell_type": "markdown",
   "id": "6af45f50-0282-40fe-bdee-c88566fda359",
   "metadata": {},
   "source": [
    "#### Descriptive statistical analysis on the data in the Sales and Unit columns. "
   ]
  },
  {
   "cell_type": "code",
   "execution_count": 29,
   "id": "6b569923-a717-4f47-8fcf-f54e8fecee79",
   "metadata": {},
   "outputs": [
    {
     "data": {
      "text/html": [
       "<div>\n",
       "<style scoped>\n",
       "    .dataframe tbody tr th:only-of-type {\n",
       "        vertical-align: middle;\n",
       "    }\n",
       "\n",
       "    .dataframe tbody tr th {\n",
       "        vertical-align: top;\n",
       "    }\n",
       "\n",
       "    .dataframe thead th {\n",
       "        text-align: right;\n",
       "    }\n",
       "</style>\n",
       "<table border=\"1\" class=\"dataframe\">\n",
       "  <thead>\n",
       "    <tr style=\"text-align: right;\">\n",
       "      <th></th>\n",
       "      <th>Date</th>\n",
       "      <th>Unit</th>\n",
       "      <th>Sales</th>\n",
       "      <th>normalized_Unit</th>\n",
       "      <th>normalized_Sales</th>\n",
       "    </tr>\n",
       "  </thead>\n",
       "  <tbody>\n",
       "    <tr>\n",
       "      <th>count</th>\n",
       "      <td>7560</td>\n",
       "      <td>7560.000000</td>\n",
       "      <td>7560.000000</td>\n",
       "      <td>7560.000000</td>\n",
       "      <td>7560.000000</td>\n",
       "    </tr>\n",
       "    <tr>\n",
       "      <th>mean</th>\n",
       "      <td>2020-11-15 04:00:00.000000256</td>\n",
       "      <td>18.005423</td>\n",
       "      <td>45013.558201</td>\n",
       "      <td>0.254054</td>\n",
       "      <td>0.254054</td>\n",
       "    </tr>\n",
       "    <tr>\n",
       "      <th>min</th>\n",
       "      <td>2020-10-01 00:00:00</td>\n",
       "      <td>2.000000</td>\n",
       "      <td>5000.000000</td>\n",
       "      <td>0.000000</td>\n",
       "      <td>0.000000</td>\n",
       "    </tr>\n",
       "    <tr>\n",
       "      <th>25%</th>\n",
       "      <td>2020-10-23 00:00:00</td>\n",
       "      <td>8.000000</td>\n",
       "      <td>20000.000000</td>\n",
       "      <td>0.095238</td>\n",
       "      <td>0.095238</td>\n",
       "    </tr>\n",
       "    <tr>\n",
       "      <th>50%</th>\n",
       "      <td>2020-11-15 12:00:00</td>\n",
       "      <td>14.000000</td>\n",
       "      <td>35000.000000</td>\n",
       "      <td>0.190476</td>\n",
       "      <td>0.190476</td>\n",
       "    </tr>\n",
       "    <tr>\n",
       "      <th>75%</th>\n",
       "      <td>2020-12-08 00:00:00</td>\n",
       "      <td>26.000000</td>\n",
       "      <td>65000.000000</td>\n",
       "      <td>0.380952</td>\n",
       "      <td>0.380952</td>\n",
       "    </tr>\n",
       "    <tr>\n",
       "      <th>max</th>\n",
       "      <td>2020-12-30 00:00:00</td>\n",
       "      <td>65.000000</td>\n",
       "      <td>162500.000000</td>\n",
       "      <td>1.000000</td>\n",
       "      <td>1.000000</td>\n",
       "    </tr>\n",
       "    <tr>\n",
       "      <th>std</th>\n",
       "      <td>NaN</td>\n",
       "      <td>12.901403</td>\n",
       "      <td>32253.506944</td>\n",
       "      <td>0.204784</td>\n",
       "      <td>0.204784</td>\n",
       "    </tr>\n",
       "  </tbody>\n",
       "</table>\n",
       "</div>"
      ],
      "text/plain": [
       "                                Date         Unit          Sales  \\\n",
       "count                           7560  7560.000000    7560.000000   \n",
       "mean   2020-11-15 04:00:00.000000256    18.005423   45013.558201   \n",
       "min              2020-10-01 00:00:00     2.000000    5000.000000   \n",
       "25%              2020-10-23 00:00:00     8.000000   20000.000000   \n",
       "50%              2020-11-15 12:00:00    14.000000   35000.000000   \n",
       "75%              2020-12-08 00:00:00    26.000000   65000.000000   \n",
       "max              2020-12-30 00:00:00    65.000000  162500.000000   \n",
       "std                              NaN    12.901403   32253.506944   \n",
       "\n",
       "       normalized_Unit  normalized_Sales  \n",
       "count      7560.000000       7560.000000  \n",
       "mean          0.254054          0.254054  \n",
       "min           0.000000          0.000000  \n",
       "25%           0.095238          0.095238  \n",
       "50%           0.190476          0.190476  \n",
       "75%           0.380952          0.380952  \n",
       "max           1.000000          1.000000  \n",
       "std           0.204784          0.204784  "
      ]
     },
     "execution_count": 29,
     "metadata": {},
     "output_type": "execute_result"
    }
   ],
   "source": [
    "sales_data_df.describe()"
   ]
  },
  {
   "cell_type": "code",
   "execution_count": 30,
   "id": "e2174251-4008-4364-b47d-dbaa44ba7211",
   "metadata": {},
   "outputs": [
    {
     "data": {
      "text/plain": [
       "array(0.38461538)"
      ]
     },
     "execution_count": 30,
     "metadata": {},
     "output_type": "execute_result"
    }
   ],
   "source": [
    "skewness = medcouple(sales_data_df['Sales'])\n",
    "skewness"
   ]
  },
  {
   "cell_type": "code",
   "execution_count": 31,
   "id": "7b8380f0-f354-4a5f-94b7-8f92c70546da",
   "metadata": {},
   "outputs": [
    {
     "data": {
      "text/plain": [
       "(np.float64(0.6601863165793382),\n",
       " np.float64(-0.06642844881855048),\n",
       " np.float64(-0.2503192361713298),\n",
       " np.float64(-0.3502913961146086))"
      ]
     },
     "execution_count": 31,
     "metadata": {},
     "output_type": "execute_result"
    }
   ],
   "source": [
    "kurtosis  = robust_kurtosis(sales_data_df['Sales'])\n",
    "kurtosis"
   ]
  },
  {
   "cell_type": "code",
   "execution_count": 32,
   "id": "2e6d55c6-97b8-4819-ae36-0477f5de31be",
   "metadata": {},
   "outputs": [
    {
     "data": {
      "text/plain": [
       "<Axes: xlabel='Sales', ylabel='Density'>"
      ]
     },
     "execution_count": 32,
     "metadata": {},
     "output_type": "execute_result"
    },
    {
     "data": {
      "image/png": "[encoded data removed]",
      "text/plain": [
       "<Figure size 640x480 with 1 Axes>"
      ]
     },
     "metadata": {},
     "output_type": "display_data"
    }
   ],
   "source": [
    "sns.kdeplot(data=sales_data_df['Sales'])"
   ]
  },
  {
   "cell_type": "markdown",
   "id": "fc49eaf9-1687-4c33-94f8-e873b0be16cd",
   "metadata": {},
   "source": [
    "### Data is slightly positively skewed"
   ]
  },
  {
   "cell_type": "code",
   "execution_count": 33,
   "id": "5a77488f-a30d-4a31-a52e-5380633cffe9",
   "metadata": {},
   "outputs": [
    {
     "name": "stdout",
     "output_type": "stream",
     "text": [
      "1.0\n"
     ]
    }
   ],
   "source": [
    "correlation= sales_data_df['Sales'].corr(sales_data_df['Unit'],method='pearson')\n",
    "print(correlation)"
   ]
  },
  {
   "cell_type": "markdown",
   "id": "e1ed72fb-a8e2-4f23-b16e-741d9329c76f",
   "metadata": {},
   "source": [
    "#### There is a perfect positive linear relationship between number of units sold and sales"
   ]
  },
  {
   "cell_type": "markdown",
   "id": "5df95253-c826-4cd3-9dff-ce611a302936",
   "metadata": {},
   "source": [
    "#### Using group by to find the states with max and min sales"
   ]
  },
  {
   "cell_type": "code",
   "execution_count": 34,
   "id": "e1f0add8-e4e7-47b9-b11c-be1ba678afe1",
   "metadata": {},
   "outputs": [
    {
     "name": "stdout",
     "output_type": "stream",
     "text": [
      "State with maximum sales:  VIC\n",
      "State with minimum sales:  WA\n"
     ]
    }
   ],
   "source": [
    "state_wise_sale=sales_data_df.groupby('State')['Sales'].sum()\n",
    "state_max_sale=state_wise_sale.idxmax()\n",
    "state_min_sale=state_wise_sale.idxmin()\n",
    "print('State with maximum sales:',state_max_sale)\n",
    "print('State with minimum sales:',state_min_sale)"
   ]
  },
  {
   "cell_type": "markdown",
   "id": "0b065228-da9f-4432-976f-80cb7db15379",
   "metadata": {},
   "source": [
    "#### Here VIC is having the maximum sales in 4th quarter and WA is having the minimum sales"
   ]
  },
  {
   "cell_type": "markdown",
   "id": "fb73dd0e-11e5-4dd4-880f-3f6ffc5295bc",
   "metadata": {},
   "source": [
    "#### Checking which group is having minimum and maximum sales"
   ]
  },
  {
   "cell_type": "code",
   "execution_count": 35,
   "id": "617a62ab-03c4-45ff-a5fe-7756916651f3",
   "metadata": {},
   "outputs": [
    {
     "name": "stdout",
     "output_type": "stream",
     "text": [
      "Group with maximum sales:  Men\n",
      "Group with minimum sales:  Seniors\n"
     ]
    }
   ],
   "source": [
    "group_wise_sale=sales_data_df.groupby('Group')['Sales'].sum()\n",
    "group_max_sale=group_wise_sale.idxmax()\n",
    "group_min_sale=group_wise_sale.idxmin()\n",
    "print('Group with maximum sales:',group_max_sale)\n",
    "print('Group with minimum sales:',group_min_sale)"
   ]
  },
  {
   "cell_type": "markdown",
   "id": "0856a6aa-daad-4d39-85f0-0e004105e29d",
   "metadata": {},
   "source": [
    "#### Men apparels is having maximum sales and Seniors apparels is having minimum sales"
   ]
  },
  {
   "cell_type": "markdown",
   "id": "dcf3db73-2dc9-4571-b527-24c5ca5e2549",
   "metadata": {},
   "source": [
    "#### Generating weekly,monthly,Quarterly reports"
   ]
  },
  {
   "cell_type": "markdown",
   "id": "88b7d425-b531-43ad-8412-0752822bea91",
   "metadata": {},
   "source": [
    "### Weekly Report"
   ]
  },
  {
   "cell_type": "code",
   "execution_count": 36,
   "id": "3f2a77c3-8db7-4a42-b074-62826d322aa7",
   "metadata": {
    "scrolled": true
   },
   "outputs": [
    {
     "data": {
      "text/html": [
       "<div>\n",
       "<style scoped>\n",
       "    .dataframe tbody tr th:only-of-type {\n",
       "        vertical-align: middle;\n",
       "    }\n",
       "\n",
       "    .dataframe tbody tr th {\n",
       "        vertical-align: top;\n",
       "    }\n",
       "\n",
       "    .dataframe thead th {\n",
       "        text-align: right;\n",
       "    }\n",
       "</style>\n",
       "<table border=\"1\" class=\"dataframe\">\n",
       "  <thead>\n",
       "    <tr style=\"text-align: right;\">\n",
       "      <th></th>\n",
       "      <th></th>\n",
       "      <th></th>\n",
       "      <th></th>\n",
       "      <th>Unit</th>\n",
       "      <th>Sales</th>\n",
       "    </tr>\n",
       "    <tr>\n",
       "      <th>Date</th>\n",
       "      <th>Time</th>\n",
       "      <th>State</th>\n",
       "      <th>Group</th>\n",
       "      <th></th>\n",
       "      <th></th>\n",
       "    </tr>\n",
       "  </thead>\n",
       "  <tbody>\n",
       "    <tr>\n",
       "      <th rowspan=\"5\" valign=\"top\">2020-10-04</th>\n",
       "      <th rowspan=\"5\" valign=\"top\">Afternoon</th>\n",
       "      <th rowspan=\"4\" valign=\"top\">NSW</th>\n",
       "      <th>Kids</th>\n",
       "      <td>117</td>\n",
       "      <td>292500</td>\n",
       "    </tr>\n",
       "    <tr>\n",
       "      <th>Men</th>\n",
       "      <td>106</td>\n",
       "      <td>265000</td>\n",
       "    </tr>\n",
       "    <tr>\n",
       "      <th>Seniors</th>\n",
       "      <td>109</td>\n",
       "      <td>272500</td>\n",
       "    </tr>\n",
       "    <tr>\n",
       "      <th>Women</th>\n",
       "      <td>123</td>\n",
       "      <td>307500</td>\n",
       "    </tr>\n",
       "    <tr>\n",
       "      <th>NT</th>\n",
       "      <th>Kids</th>\n",
       "      <td>34</td>\n",
       "      <td>85000</td>\n",
       "    </tr>\n",
       "    <tr>\n",
       "      <th>...</th>\n",
       "      <th>...</th>\n",
       "      <th>...</th>\n",
       "      <th>...</th>\n",
       "      <td>...</td>\n",
       "      <td>...</td>\n",
       "    </tr>\n",
       "    <tr>\n",
       "      <th rowspan=\"5\" valign=\"top\">2021-01-03</th>\n",
       "      <th rowspan=\"5\" valign=\"top\">Morning</th>\n",
       "      <th>VIC</th>\n",
       "      <th>Women</th>\n",
       "      <td>134</td>\n",
       "      <td>335000</td>\n",
       "    </tr>\n",
       "    <tr>\n",
       "      <th rowspan=\"4\" valign=\"top\">WA</th>\n",
       "      <th>Kids</th>\n",
       "      <td>25</td>\n",
       "      <td>62500</td>\n",
       "    </tr>\n",
       "    <tr>\n",
       "      <th>Men</th>\n",
       "      <td>35</td>\n",
       "      <td>87500</td>\n",
       "    </tr>\n",
       "    <tr>\n",
       "      <th>Seniors</th>\n",
       "      <td>29</td>\n",
       "      <td>72500</td>\n",
       "    </tr>\n",
       "    <tr>\n",
       "      <th>Women</th>\n",
       "      <td>30</td>\n",
       "      <td>75000</td>\n",
       "    </tr>\n",
       "  </tbody>\n",
       "</table>\n",
       "<p>1176 rows × 2 columns</p>\n",
       "</div>"
      ],
      "text/plain": [
       "                                    Unit   Sales\n",
       "Date       Time      State Group                \n",
       "2020-10-04 Afternoon NSW   Kids      117  292500\n",
       "                           Men       106  265000\n",
       "                           Seniors   109  272500\n",
       "                           Women     123  307500\n",
       "                     NT    Kids       34   85000\n",
       "...                                  ...     ...\n",
       "2021-01-03 Morning   VIC   Women     134  335000\n",
       "                     WA    Kids       25   62500\n",
       "                           Men        35   87500\n",
       "                           Seniors    29   72500\n",
       "                           Women      30   75000\n",
       "\n",
       "[1176 rows x 2 columns]"
      ]
     },
     "execution_count": 36,
     "metadata": {},
     "output_type": "execute_result"
    }
   ],
   "source": [
    "\n",
    "sales_data_df.set_index('Date',inplace=True)\n",
    "weekly_report=sales_data_df.groupby([pd.Grouper(freq='W'),'Time','State','Group'])[['Unit','Sales']].sum()\n",
    "weekly_report"
   ]
  },
  {
   "cell_type": "markdown",
   "id": "b446581f-9281-415e-b0d7-16ad824e331f",
   "metadata": {},
   "source": [
    "### Monthly Report"
   ]
  },
  {
   "cell_type": "code",
   "execution_count": 37,
   "id": "b868d7c1-f340-443c-ba5d-c42b4060583f",
   "metadata": {},
   "outputs": [
    {
     "data": {
      "text/html": [
       "<div>\n",
       "<style scoped>\n",
       "    .dataframe tbody tr th:only-of-type {\n",
       "        vertical-align: middle;\n",
       "    }\n",
       "\n",
       "    .dataframe tbody tr th {\n",
       "        vertical-align: top;\n",
       "    }\n",
       "\n",
       "    .dataframe thead th {\n",
       "        text-align: right;\n",
       "    }\n",
       "</style>\n",
       "<table border=\"1\" class=\"dataframe\">\n",
       "  <thead>\n",
       "    <tr style=\"text-align: right;\">\n",
       "      <th></th>\n",
       "      <th></th>\n",
       "      <th></th>\n",
       "      <th></th>\n",
       "      <th>Unit</th>\n",
       "      <th>Sales</th>\n",
       "    </tr>\n",
       "    <tr>\n",
       "      <th>Date</th>\n",
       "      <th>Time</th>\n",
       "      <th>State</th>\n",
       "      <th>Group</th>\n",
       "      <th></th>\n",
       "      <th></th>\n",
       "    </tr>\n",
       "  </thead>\n",
       "  <tbody>\n",
       "    <tr>\n",
       "      <th rowspan=\"5\" valign=\"top\">2020-10-31</th>\n",
       "      <th rowspan=\"5\" valign=\"top\">Afternoon</th>\n",
       "      <th rowspan=\"4\" valign=\"top\">NSW</th>\n",
       "      <th>Kids</th>\n",
       "      <td>801</td>\n",
       "      <td>2002500</td>\n",
       "    </tr>\n",
       "    <tr>\n",
       "      <th>Men</th>\n",
       "      <td>820</td>\n",
       "      <td>2050000</td>\n",
       "    </tr>\n",
       "    <tr>\n",
       "      <th>Seniors</th>\n",
       "      <td>758</td>\n",
       "      <td>1895000</td>\n",
       "    </tr>\n",
       "    <tr>\n",
       "      <th>Women</th>\n",
       "      <td>902</td>\n",
       "      <td>2255000</td>\n",
       "    </tr>\n",
       "    <tr>\n",
       "      <th>NT</th>\n",
       "      <th>Kids</th>\n",
       "      <td>285</td>\n",
       "      <td>712500</td>\n",
       "    </tr>\n",
       "    <tr>\n",
       "      <th>...</th>\n",
       "      <th>...</th>\n",
       "      <th>...</th>\n",
       "      <th>...</th>\n",
       "      <td>...</td>\n",
       "      <td>...</td>\n",
       "    </tr>\n",
       "    <tr>\n",
       "      <th rowspan=\"5\" valign=\"top\">2020-12-31</th>\n",
       "      <th rowspan=\"5\" valign=\"top\">Morning</th>\n",
       "      <th>VIC</th>\n",
       "      <th>Women</th>\n",
       "      <td>1336</td>\n",
       "      <td>3340000</td>\n",
       "    </tr>\n",
       "    <tr>\n",
       "      <th rowspan=\"4\" valign=\"top\">WA</th>\n",
       "      <th>Kids</th>\n",
       "      <td>302</td>\n",
       "      <td>755000</td>\n",
       "    </tr>\n",
       "    <tr>\n",
       "      <th>Men</th>\n",
       "      <td>309</td>\n",
       "      <td>772500</td>\n",
       "    </tr>\n",
       "    <tr>\n",
       "      <th>Seniors</th>\n",
       "      <td>296</td>\n",
       "      <td>740000</td>\n",
       "    </tr>\n",
       "    <tr>\n",
       "      <th>Women</th>\n",
       "      <td>309</td>\n",
       "      <td>772500</td>\n",
       "    </tr>\n",
       "  </tbody>\n",
       "</table>\n",
       "<p>252 rows × 2 columns</p>\n",
       "</div>"
      ],
      "text/plain": [
       "                                    Unit    Sales\n",
       "Date       Time      State Group                 \n",
       "2020-10-31 Afternoon NSW   Kids      801  2002500\n",
       "                           Men       820  2050000\n",
       "                           Seniors   758  1895000\n",
       "                           Women     902  2255000\n",
       "                     NT    Kids      285   712500\n",
       "...                                  ...      ...\n",
       "2020-12-31 Morning   VIC   Women    1336  3340000\n",
       "                     WA    Kids      302   755000\n",
       "                           Men       309   772500\n",
       "                           Seniors   296   740000\n",
       "                           Women     309   772500\n",
       "\n",
       "[252 rows x 2 columns]"
      ]
     },
     "execution_count": 37,
     "metadata": {},
     "output_type": "execute_result"
    }
   ],
   "source": [
    "monthly_report=sales_data_df.groupby([pd.Grouper(freq='ME'),'Time','State','Group'])[['Unit','Sales']].sum()\n",
    "monthly_report"
   ]
  },
  {
   "cell_type": "markdown",
   "id": "a0934a27-f93f-43e8-928c-c87f452f5007",
   "metadata": {},
   "source": [
    "### Quarterly Report"
   ]
  },
  {
   "cell_type": "code",
   "execution_count": 38,
   "id": "e9e5a714-be15-4392-8454-c4db3f5aed81",
   "metadata": {},
   "outputs": [
    {
     "data": {
      "text/html": [
       "<div>\n",
       "<style scoped>\n",
       "    .dataframe tbody tr th:only-of-type {\n",
       "        vertical-align: middle;\n",
       "    }\n",
       "\n",
       "    .dataframe tbody tr th {\n",
       "        vertical-align: top;\n",
       "    }\n",
       "\n",
       "    .dataframe thead th {\n",
       "        text-align: right;\n",
       "    }\n",
       "</style>\n",
       "<table border=\"1\" class=\"dataframe\">\n",
       "  <thead>\n",
       "    <tr style=\"text-align: right;\">\n",
       "      <th></th>\n",
       "      <th></th>\n",
       "      <th></th>\n",
       "      <th></th>\n",
       "      <th>Unit</th>\n",
       "      <th>Sales</th>\n",
       "    </tr>\n",
       "    <tr>\n",
       "      <th>Date</th>\n",
       "      <th>Time</th>\n",
       "      <th>State</th>\n",
       "      <th>Group</th>\n",
       "      <th></th>\n",
       "      <th></th>\n",
       "    </tr>\n",
       "  </thead>\n",
       "  <tbody>\n",
       "    <tr>\n",
       "      <th rowspan=\"11\" valign=\"top\">2020-12-31</th>\n",
       "      <th rowspan=\"5\" valign=\"top\">Afternoon</th>\n",
       "      <th rowspan=\"4\" valign=\"top\">NSW</th>\n",
       "      <th>Kids</th>\n",
       "      <td>2475</td>\n",
       "      <td>6187500</td>\n",
       "    </tr>\n",
       "    <tr>\n",
       "      <th>Men</th>\n",
       "      <td>2605</td>\n",
       "      <td>6512500</td>\n",
       "    </tr>\n",
       "    <tr>\n",
       "      <th>Seniors</th>\n",
       "      <td>2394</td>\n",
       "      <td>5985000</td>\n",
       "    </tr>\n",
       "    <tr>\n",
       "      <th>Women</th>\n",
       "      <td>2570</td>\n",
       "      <td>6425000</td>\n",
       "    </tr>\n",
       "    <tr>\n",
       "      <th>NT</th>\n",
       "      <th>Kids</th>\n",
       "      <td>752</td>\n",
       "      <td>1880000</td>\n",
       "    </tr>\n",
       "    <tr>\n",
       "      <th>...</th>\n",
       "      <th>...</th>\n",
       "      <th>...</th>\n",
       "      <td>...</td>\n",
       "      <td>...</td>\n",
       "    </tr>\n",
       "    <tr>\n",
       "      <th rowspan=\"5\" valign=\"top\">Morning</th>\n",
       "      <th>VIC</th>\n",
       "      <th>Women</th>\n",
       "      <td>3519</td>\n",
       "      <td>8797500</td>\n",
       "    </tr>\n",
       "    <tr>\n",
       "      <th rowspan=\"4\" valign=\"top\">WA</th>\n",
       "      <th>Kids</th>\n",
       "      <td>737</td>\n",
       "      <td>1842500</td>\n",
       "    </tr>\n",
       "    <tr>\n",
       "      <th>Men</th>\n",
       "      <td>803</td>\n",
       "      <td>2007500</td>\n",
       "    </tr>\n",
       "    <tr>\n",
       "      <th>Seniors</th>\n",
       "      <td>780</td>\n",
       "      <td>1950000</td>\n",
       "    </tr>\n",
       "    <tr>\n",
       "      <th>Women</th>\n",
       "      <td>707</td>\n",
       "      <td>1767500</td>\n",
       "    </tr>\n",
       "  </tbody>\n",
       "</table>\n",
       "<p>84 rows × 2 columns</p>\n",
       "</div>"
      ],
      "text/plain": [
       "                                    Unit    Sales\n",
       "Date       Time      State Group                 \n",
       "2020-12-31 Afternoon NSW   Kids     2475  6187500\n",
       "                           Men      2605  6512500\n",
       "                           Seniors  2394  5985000\n",
       "                           Women    2570  6425000\n",
       "                     NT    Kids      752  1880000\n",
       "...                                  ...      ...\n",
       "           Morning   VIC   Women    3519  8797500\n",
       "                     WA    Kids      737  1842500\n",
       "                           Men       803  2007500\n",
       "                           Seniors   780  1950000\n",
       "                           Women     707  1767500\n",
       "\n",
       "[84 rows x 2 columns]"
      ]
     },
     "execution_count": 38,
     "metadata": {},
     "output_type": "execute_result"
    }
   ],
   "source": [
    "\n",
    "quarterly_report=sales_data_df.groupby([pd.Grouper(freq='QE'),'Time','State','Group'])[['Unit','Sales']].sum()\n",
    "quarterly_report"
   ]
  },
  {
   "cell_type": "markdown",
   "id": "7e6d3649-f9a4-4830-a39f-7a12267ba94a",
   "metadata": {},
   "source": [
    "### Data Visualization"
   ]
  },
  {
   "cell_type": "markdown",
   "id": "b12e3ae7-f62d-40f8-a4f1-2ced94ac23e3",
   "metadata": {},
   "source": [
    "## Dashboard for Sales Analysis"
   ]
  },
  {
   "cell_type": "code",
   "execution_count": 39,
   "id": "b4337167-f68a-43a1-b9a6-2c76fd2bdb92",
   "metadata": {},
   "outputs": [
    {
     "data": {
      "image/png": "[encoded data removed]",
      "text/plain": [
       "<Figure size 1000x800 with 6 Axes>"
      ]
     },
     "metadata": {},
     "output_type": "display_data"
    }
   ],
   "source": [
    "plt.figure(figsize=(10,8))\n",
    "plt.suptitle('Sales Trend Analysis')\n",
    "\n",
    "###State wise sales for Demographic Group\n",
    "plt.subplot(231)\n",
    "sns.barplot(x='State',y='Sales',hue='Group',data=sales_data_df,estimator=sum,palette='muted',errorbar=None,dodge=True)\n",
    "plt.xlabel('State') \n",
    "plt.ylabel('Total Sales') \n",
    "plt.title('State wise sales for Demographic Group')\n",
    "plt.legend(title='Demographic Group') \n",
    "\n",
    "### Demographic Group Sales Statewise\n",
    "plt.subplot(232)\n",
    "sns.barplot(x='Group',y='Sales',hue='State',data=sales_data_df,estimator=sum,palette='bright',errorbar=None,dodge=True)\n",
    "plt.xlabel('Demographic Group') \n",
    "plt.ylabel('Total Sales') \n",
    "plt.title('Demographic Group Sales Statewise')\n",
    "\n",
    "###Time Of the Day Analysis\n",
    "plt.subplot(233)\n",
    "grouped_data_time=sales_data_df.groupby(['Time'],as_index=False)['Sales'].sum()\n",
    "plt.pie(grouped_data_time['Sales'],labels=grouped_data_time['Time'],autopct='%1.2f%%')\n",
    "sales_data_df['Month']=sales_data_df.index.strftime('%b')\n",
    "plt.title('Time Of The Day Analysis')\n",
    "\n",
    "### Daily Sale Trend Analysis\n",
    "plt.subplot(234)\n",
    "sns.lineplot(x='Date',y='Sales',data=sales_data_df)\n",
    "plt.title('Daily Sale Trend Analysis')\n",
    "\n",
    "### Weekly Sale Trend Analysis\n",
    "plt.subplot(235)\n",
    "sales_data_df['Week Number']=sales_data_df.index.isocalendar().week\n",
    "weekly_data=sales_data_df.groupby(['Week Number'],as_index=False)['Sales'].sum()\n",
    "sns.lineplot(x='Week Number',y='Sales',data=weekly_data)\n",
    "plt.title('Weekly Sale Trend Analysis')\n",
    "\n",
    "### Monthly Sale Trend Analysis\n",
    "plt.subplot(236)\n",
    "monthly_data=sales_data_df.groupby(['Month'],as_index=False)['Sales'].sum()\n",
    "monthly_data=monthly_data.sort_index(ascending=False)\n",
    "sns.lineplot(x='Month',y='Sales',data=monthly_data)\n",
    "plt.title('Monthly Sale Trend Analysis')\n",
    "\n",
    "plt.tight_layout()\n",
    "plt.show()"
   ]
  },
  {
   "cell_type": "markdown",
   "id": "6776aa42-2b0c-46fe-8600-22cb22414975",
   "metadata": {},
   "source": [
    "#### Below are the inferences from the dashboard\n",
    "I have used Bar plot for plotting Statewise and Group wise sales. This plot clearly shows state VIC has most sales and the states with lowest sales are WA,TAS and NT. The sales for all groups are less in these states. \n",
    "I have used pie chart to determine the sales according the time of the day and could see afternoon time had slightly less sales compared to morning and evening times. \n",
    "I have uses line chart to plot the sales trend over the time. From the chart it is clear November month has lowest sale and December has most sales may be because of the Christmas holidays and from weekly trend it is showing sales are decreasing towards the end of December."
   ]
  },
  {
   "cell_type": "code",
   "execution_count": null,
   "id": "595766b1-2b9b-4da0-b1c6-ab677eac3bb4",
   "metadata": {},
   "outputs": [],
   "source": []
  }
 ],
 "metadata": {
  "kernelspec": {
   "display_name": "Python 3",
   "language": "python",
   "name": "python3"
  },
  "language_info": {
   "codemirror_mode": {
    "name": "ipython",
    "version": 3
   },
   "file_extension": ".py",
   "mimetype": "text/x-python",
   "name": "python",
   "nbconvert_exporter": "python",
   "pygments_lexer": "ipython3",
   "version": "3.13.0"
  }
 },
 "nbformat": 4,
 "nbformat_minor": 5
}
